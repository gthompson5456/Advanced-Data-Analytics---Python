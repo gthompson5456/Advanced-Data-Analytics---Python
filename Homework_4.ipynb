{
 "cells": [
  {
   "cell_type": "markdown",
   "metadata": {},
   "source": [
    "# Instructions\n",
    "\n",
    "Your submission will be tested with the code tester. It is important to follow these instructions to ensure your work tests properly.\n",
    "\n",
    "- Do not change the content of the cells under __SETUP__ and __TESTS__\n",
    "- Work only in the __YOUR WORK__ area\n",
    "- Rename the notebook with your group at the end (subsitute XX with your group number).\n",
    "- Assign the results of each numbered question to the appropriate test variable. For example, the answer of `1.` should be assigned to `test_1`\n",
    "- Rounding: use the supplied function `hround` to round decimal numbers when instructed. It's important to use this function because there are [multiple ways to round numbers in Python](https://www.knowledgehut.com/blog/programming/python-rounding-numbers) and they may not result in the same value that the tester is testing against.\n",
    "- Ensure your run the cells under __SETUP__ before you run your work\n",
    "- Before you submit your work, ensure you clean up your notebook. Your notebook has to run without an error in order to be tested. The easiest way to ensure is to `Kernel->Restart & Run All`\n",
    "- Answers are provided in along with this notebook in eLC (look a picture named `solution_key`) for your convenience\n",
    "- You will need to write a program to calculate the answers. Setting the answers to be their correct values without solving them is considered *hardcoding* and will result in zero grade for the assignment as well as a potential academic honesty violation.\n",
    "- You can also test your submission using [the online code tester](https://notebook-tester.safadi-puzzler.com/)\n"
   ]
  },
  {
   "cell_type": "markdown",
   "metadata": {},
   "source": [
    "# SETUP"
   ]
  },
  {
   "cell_type": "code",
   "execution_count": 42,
   "metadata": {},
   "outputs": [],
   "source": [
    "import pandas as pd\n",
    "import numpy as np\n",
    "import networkx as nx\n",
    "import spacy\n",
    "import json, os\n",
    "from textblob import TextBlob\n",
    "from spacy import displacy"
   ]
  },
  {
   "cell_type": "code",
   "execution_count": 43,
   "metadata": {},
   "outputs": [],
   "source": [
    "from langchain.chat_models import ChatOpenAI\n",
    "from langchain_core.output_parsers import StrOutputParser\n",
    "from langchain.callbacks.tracers import ConsoleCallbackHandler\n",
    "from langchain.prompts import ChatPromptTemplate"
   ]
  },
  {
   "cell_type": "code",
   "execution_count": 44,
   "metadata": {},
   "outputs": [],
   "source": [
    "from langchain.chains.openai_functions import create_structured_output_chain\n",
    "from pydantic import BaseModel, Field"
   ]
  },
  {
   "cell_type": "code",
   "execution_count": 45,
   "metadata": {
    "tags": [
     "parameters"
    ]
   },
   "outputs": [
    {
     "name": "stderr",
     "output_type": "stream",
     "text": [
      "[nltk_data] Downloading package punkt to\n",
      "[nltk_data]     /Users/bretttracy/nltk_data...\n",
      "[nltk_data]   Package punkt is already up-to-date!\n",
      "[nltk_data] Downloading package punkt_tab to\n",
      "[nltk_data]     /Users/bretttracy/nltk_data...\n",
      "[nltk_data]   Package punkt_tab is already up-to-date!\n"
     ]
    },
    {
     "data": {
      "text/plain": [
       "True"
      ]
     },
     "execution_count": 45,
     "metadata": {},
     "output_type": "execute_result"
    }
   ],
   "source": [
    "# DO NOT EDIT OR CHANGE THE CONTENT OF THIS CELL\n",
    "scenario = 0\n",
    "nlp = spacy.load('en_core_web_sm')\n",
    "import nltk;nltk.download('punkt');nltk.download('punkt_tab')"
   ]
  },
  {
   "cell_type": "code",
   "execution_count": 46,
   "metadata": {},
   "outputs": [],
   "source": [
    "def hround(number):\n",
    "    return round(number, 2 - scenario)"
   ]
  },
  {
   "cell_type": "code",
   "execution_count": 47,
   "metadata": {},
   "outputs": [],
   "source": [
    "test_1=test_2=test_3=test_4=test_5=test_6=test_7=test_8=test_9=test_10=0.0\n",
    "test_11=test_12=test_13=test_14=test_15=0.0"
   ]
  },
  {
   "cell_type": "code",
   "execution_count": 48,
   "metadata": {},
   "outputs": [],
   "source": [
    "# insert OpenAI key here...\n",
    "llm = ChatOpenAI(model=\"gpt-4o-mini\", temperature=0)"
   ]
  },
  {
   "cell_type": "markdown",
   "metadata": {},
   "source": [
    "In this homework, we have data from the [100 Resilient Cities](https://www.rockefellerfoundation.org/100-resilient-cities/#:~:text=Overview%20In%202013%2C%20The%20Rockefeller%20Foundation%20pioneered%20100,a%20roadmap%20to%20resilience%20along%20four%20main%20pathways%3A?msclkid=5705866aaaaa11ec85d9402890b45f8f). The data contains 30 documents from 30 cities outlining their strategies for urban resilience. We are going to focus on text and network analytics."
   ]
  },
  {
   "cell_type": "code",
   "execution_count": 49,
   "metadata": {
    "scrolled": true
   },
   "outputs": [
    {
     "data": {
      "text/html": [
       "<div>\n",
       "<style scoped>\n",
       "    .dataframe tbody tr th:only-of-type {\n",
       "        vertical-align: middle;\n",
       "    }\n",
       "\n",
       "    .dataframe tbody tr th {\n",
       "        vertical-align: top;\n",
       "    }\n",
       "\n",
       "    .dataframe thead th {\n",
       "        text-align: right;\n",
       "    }\n",
       "</style>\n",
       "<table border=\"1\" class=\"dataframe\">\n",
       "  <thead>\n",
       "    <tr style=\"text-align: right;\">\n",
       "      <th></th>\n",
       "      <th>city</th>\n",
       "      <th>country</th>\n",
       "      <th>text</th>\n",
       "      <th>ENTITIES</th>\n",
       "    </tr>\n",
       "  </thead>\n",
       "  <tbody>\n",
       "    <tr>\n",
       "      <th>0</th>\n",
       "      <td>Melbourne</td>\n",
       "      <td>Australia</td>\n",
       "      <td>﻿PEOPLE ARE\\nAT THE HEART OF ALL CITIES\\nA res...</td>\n",
       "      <td>{'LOCATION': ['Collingwood', 'Sri Lankan', 'So...</td>\n",
       "    </tr>\n",
       "    <tr>\n",
       "      <th>1</th>\n",
       "      <td>Rio de Janeiro</td>\n",
       "      <td>Brazil</td>\n",
       "      <td>﻿100 Resilient Cities - Pioneered by The Rocke...</td>\n",
       "      <td>{'ORGANIZATION': ['IPCC', 'PARTNERS World Bank...</td>\n",
       "    </tr>\n",
       "    <tr>\n",
       "      <th>2</th>\n",
       "      <td>Medelin</td>\n",
       "      <td>Colombia</td>\n",
       "      <td>﻿A CITY THAT TRANSFORMS ITSELF FOR ITS PEOPLE\\...</td>\n",
       "      <td>{'LOCATION': ['Colombia', 'Proantioquia', 'l.A...</td>\n",
       "    </tr>\n",
       "    <tr>\n",
       "      <th>3</th>\n",
       "      <td>Vejles</td>\n",
       "      <td>Denmark</td>\n",
       "      <td>﻿Letter from the Mayor\\nArne Sigtenbjerggaard\\...</td>\n",
       "      <td>{'PERSON': ['Torben Christensen', 'Burgos', 'J...</td>\n",
       "    </tr>\n",
       "    <tr>\n",
       "      <th>4</th>\n",
       "      <td>Quito</td>\n",
       "      <td>Ecuador</td>\n",
       "      <td>﻿MAURICIO RODAS\\nMAYOR OF THE METROPOLITAN DIS...</td>\n",
       "      <td>{'LOCATION': ['Mexico City Cuntlupo', 'Quito',...</td>\n",
       "    </tr>\n",
       "  </tbody>\n",
       "</table>\n",
       "</div>"
      ],
      "text/plain": [
       "             city    country  \\\n",
       "0       Melbourne  Australia   \n",
       "1  Rio de Janeiro     Brazil   \n",
       "2         Medelin   Colombia   \n",
       "3          Vejles    Denmark   \n",
       "4           Quito    Ecuador   \n",
       "\n",
       "                                                text  \\\n",
       "0  ﻿PEOPLE ARE\\nAT THE HEART OF ALL CITIES\\nA res...   \n",
       "1  ﻿100 Resilient Cities - Pioneered by The Rocke...   \n",
       "2  ﻿A CITY THAT TRANSFORMS ITSELF FOR ITS PEOPLE\\...   \n",
       "3  ﻿Letter from the Mayor\\nArne Sigtenbjerggaard\\...   \n",
       "4  ﻿MAURICIO RODAS\\nMAYOR OF THE METROPOLITAN DIS...   \n",
       "\n",
       "                                            ENTITIES  \n",
       "0  {'LOCATION': ['Collingwood', 'Sri Lankan', 'So...  \n",
       "1  {'ORGANIZATION': ['IPCC', 'PARTNERS World Bank...  \n",
       "2  {'LOCATION': ['Colombia', 'Proantioquia', 'l.A...  \n",
       "3  {'PERSON': ['Torben Christensen', 'Burgos', 'J...  \n",
       "4  {'LOCATION': ['Mexico City Cuntlupo', 'Quito',...  "
      ]
     },
     "execution_count": 49,
     "metadata": {},
     "output_type": "execute_result"
    }
   ],
   "source": [
    "data = pd.read_json('resillient_cities.json')\n",
    "data.head()"
   ]
  },
  {
   "cell_type": "code",
   "execution_count": 50,
   "metadata": {},
   "outputs": [
    {
     "data": {
      "text/plain": [
       "30"
      ]
     },
     "execution_count": 50,
     "metadata": {},
     "output_type": "execute_result"
    }
   ],
   "source": [
    "len(data)"
   ]
  },
  {
   "cell_type": "markdown",
   "metadata": {},
   "source": [
    "## Part 1: text analytics\n",
    "\n",
    "1. Report the unique city names in a sorted list\n",
    "\n",
    "2. Report the unique country names in a sorted list\n",
    "\n",
    "3. What are the top five frequent words in `text`, return the results in a sorted list\n",
    "\n",
    "Now we will do some text analysis. Because NLP algorithms are computationally expensive, we are going to do them on one text (so that you and the tester save time evaluating the notebook)\n",
    "\n",
    "4. Let us focus on the `text` of the city of `Glasgow`, extract the text from the data frame then perform sentiment analysis with `TextBlob`. Which sentence in this text has the lowest (most negative) polarity?\n",
    "\n",
    "5. Using `spacy`, perform named entity detection on Glasgow's text. Now focus on organization `ORG` entities. What are the top 5 frequent organization entities. Return the results in a series sorted by that frequency.\n",
    "\n",
    "Now, we want to benefit from the named entities to learn more about what was discussed in these documents. To save time, I am giving you the extracted named entities in a the column `ENTITIES`. The entities  are organized as a dictionary where the keys are entity types and the values are the instances of these entities from the text.\n",
    "\n",
    "6. Let us perform the same analysis as before but on all documents. Extract the `ORGANIZATION` entities of all documents from the column `ENTITIES`. Report the five popular organization entities in a series sorted by frequencies.\n",
    "\n",
    "7. Using the llm provided to you and the prompt `Summarize the article below in one paragraph\\n{article}`, create a summary of Glasgow's text.\n",
    "\n",
    "8. We now want to extract `key people in city government and their roles` from Glasgow's text using `create_structured_output_chain`. Follow the steps introduced in preparation 39. First, what is a good description of `relevant_attributes`?\n",
    "\n",
    "9. Define a class `Attributes(BaseModel)` to represent relevant attributes to be extracted with two required fields: `people` and `roles`. The `people` field is a list described as \"person name,\" while the `roles` field is also a list, described as \"person's role in city government.\" Both fields are mandatory. Return `Attributes.schema()`\n",
    "\n",
    "10. Using the same prompt from preparation 39, extract and return the attributes (do not report the chain `input`)."
   ]
  },
  {
   "cell_type": "code",
   "execution_count": 51,
   "metadata": {},
   "outputs": [],
   "source": [
    "test_1 = sorted(list(data['city'].unique()))"
   ]
  },
  {
   "cell_type": "code",
   "execution_count": 52,
   "metadata": {},
   "outputs": [],
   "source": [
    "test_2 = sorted(list(data['country'].unique()))"
   ]
  },
  {
   "cell_type": "code",
   "execution_count": 53,
   "metadata": {},
   "outputs": [],
   "source": [
    "def word_freq(list_of_words):\n",
    "    return pd.Series(TextBlob(list_of_words).words).value_counts()\n",
    "\n",
    "word_counts = data['text'].apply(word_freq)\n",
    "\n",
    "test_3 = sorted(list(word_counts.apply(sum).sort_values(ascending=False)[:5].index))"
   ]
  },
  {
   "cell_type": "code",
   "execution_count": 54,
   "metadata": {},
   "outputs": [],
   "source": [
    "glasgow_text = data[data['city'] == 'Glasgow']['text'].iloc[0]\n",
    "blob = TextBlob(glasgow_text)\n",
    "sentences = blob.sentences\n",
    "most_negative_index = pd.Series(sentences).apply(lambda l: l.polarity).sort_values().index[0]\n",
    "test_4 = sentences[most_negative_index].string"
   ]
  },
  {
   "cell_type": "code",
   "execution_count": 55,
   "metadata": {},
   "outputs": [],
   "source": [
    "doc = nlp(glasgow_text)\n",
    "ents = pd.Series(doc.ents)\n",
    "ent_info = ents.apply(lambda e: (e.text,e.label_))\n",
    "orgs = [e[0] for e in ent_info if e[1] == 'ORG']\n",
    "test_5 = pd.Series(orgs).value_counts()[:5]"
   ]
  },
  {
   "cell_type": "code",
   "execution_count": 56,
   "metadata": {},
   "outputs": [],
   "source": [
    "test_6 = data['ENTITIES'].apply(lambda t: [value for key,value in t.items() if key == 'ORGANIZATION']).explode().explode().value_counts().head(5)"
   ]
  },
  {
   "cell_type": "code",
   "execution_count": 57,
   "metadata": {},
   "outputs": [],
   "source": [
    "test_6.name = None"
   ]
  },
  {
   "cell_type": "code",
   "execution_count": 58,
   "metadata": {},
   "outputs": [
    {
     "data": {
      "text/plain": [
       "Rockefeller Foundation        22\n",
       "Resilience Strategy           20\n",
       "The Rockefeller Foundation    20\n",
       "NGOs                          18\n",
       "CRF                           16\n",
       "dtype: int64"
      ]
     },
     "execution_count": 58,
     "metadata": {},
     "output_type": "execute_result"
    }
   ],
   "source": [
    "test_6"
   ]
  },
  {
   "cell_type": "code",
   "execution_count": 59,
   "metadata": {},
   "outputs": [],
   "source": [
    "prompt = ChatPromptTemplate.from_template(\"Summarize the article below in one paragraph\\n{article}\")\n",
    "output_parser = StrOutputParser()\n",
    "chain = prompt | llm | output_parser\n",
    "test_7 = chain.invoke({\"article\": glasgow_text})"
   ]
  },
  {
   "cell_type": "code",
   "execution_count": 60,
   "metadata": {},
   "outputs": [],
   "source": [
    "# A good description of the relevant attributes we would like to extract from Glasgow's text is\n",
    "test_8 = \"key people in city government and their roles\""
   ]
  },
  {
   "cell_type": "code",
   "execution_count": 61,
   "metadata": {},
   "outputs": [],
   "source": [
    "class Attributes(BaseModel):\n",
    "    \"\"\"Relevant attributes\"\"\"\n",
    "    people: list = Field(..., description=\"person name\")\n",
    "    roles: list = Field(...,description=\"person's role in city government\")\n",
    "    \n",
    "test_9 = Attributes.model_json_schema()"
   ]
  },
  {
   "cell_type": "code",
   "execution_count": 62,
   "metadata": {},
   "outputs": [
    {
     "data": {
      "text/plain": [
       "{'description': 'Relevant attributes',\n",
       " 'properties': {'people': {'description': 'person name',\n",
       "   'items': {},\n",
       "   'title': 'People',\n",
       "   'type': 'array'},\n",
       "  'roles': {'description': \"person's role in city government\",\n",
       "   'items': {},\n",
       "   'title': 'Roles',\n",
       "   'type': 'array'}},\n",
       " 'required': ['people', 'roles'],\n",
       " 'title': 'Attributes',\n",
       " 'type': 'object'}"
      ]
     },
     "execution_count": 62,
     "metadata": {},
     "output_type": "execute_result"
    }
   ],
   "source": [
    "test_9"
   ]
  },
  {
   "cell_type": "code",
   "execution_count": 63,
   "metadata": {},
   "outputs": [],
   "source": [
    "def create_function(chain):\n",
    "    def function(input):\n",
    "        answer = chain(input)\n",
    "        result = json.loads(answer['function'].json())\n",
    "        return result\n",
    "    return function"
   ]
  },
  {
   "cell_type": "code",
   "execution_count": 64,
   "metadata": {},
   "outputs": [],
   "source": [
    "prompt = ChatPromptTemplate.from_messages(\n",
    "    [\n",
    "        (\"system\", \"You are a world class algorithm for extracting information in structured formats.\\nYou are helping to extract information from text.\"),\n",
    "        (\"human\", f\"The attributes to extract are: {test_8}\"),\n",
    "        (\"human\", \"Extract these attributes from the following text: {input}\"),\n",
    "        (\"human\", \"Tip: Make sure to answer in the correct format\"),\n",
    "    ]\n",
    ")\n",
    "chain = create_structured_output_chain(Attributes, llm, prompt, verbose=True)\n",
    "\n",
    "\n",
    "extract_attributes = create_function(chain)"
   ]
  },
  {
   "cell_type": "code",
   "execution_count": 65,
   "metadata": {},
   "outputs": [
    {
     "name": "stdout",
     "output_type": "stream",
     "text": [
      "\n",
      "\n",
      "\u001b[1m> Entering new LLMChain chain...\u001b[0m\n",
      "Prompt after formatting:\n",
      "\u001b[32;1m\u001b[1;3mSystem: You are a world class algorithm for extracting information in structured formats.\n",
      "You are helping to extract information from text.\n",
      "Human: The attributes to extract are: key people in city government and their roles\n",
      "Human: Extract these attributes from the following text: ﻿Glasgow is a city which learns from its past and builds on its strengths. Our\n",
      "people are the backbone of our city and have always shown a willingness to\n",
      "adapt, change and reinvent during our long and rich history.\n",
      "As leader of the city, I am proud to present Glasgow's first resilience strategy.\n",
      "This document shows us how we can adapt and grow no matter what challenges the future holds.\n",
      "Glasgow has weathered so much change throughout our history from the industrial revolution and the decline of our traditional industries to the recent economic downturn. However we have always shown a flexibility and strength of character which has allowed us to capitalise on new opportunities for growth.\n",
      "Glasgow is already a resilient city but it is in our nature to want to do more. That's what this strategy is all about.\n",
      "It is a distinct feature of the Glaswegian spirit that we always look first at tackling inequalities and ensuring that our least well off communities are at the heart of all our thinking. I want our city to be a fairer, more just place where resilience grows from strong communities.\n",
      "This strategy has been informed by an intensive and innovative process of community engagement. Our resilience conversation has linked to more than 3,500 local residents across all age groups and communities to ensure that this strategy\n",
      "draws on a diverse range of voices. I want our people and the institutions which\n",
      "serve them to continue the conversation.\n",
      "Glaswegians love to debate and dispute and that is the foundation of a strong city democracy. We are also a friendly, neighbourly and tolerant people and these features too are the very basis of our resilient city. That's why we can face an uncertain future with confidence.\n",
      "Glasgow was proudly named as one of the first members of 100 Resilient\n",
      "Cities - pioneered by The Rockefeller Foundation (100RC) - in December 2013. Our membership of the network represents a major step towards creating a strategic, multi-disciplinary approach to proactively managing the\n",
      "shocks and stresses the city may face.\n",
      "This strategy is a roadmap towards greater resilience. It focuses on the continued transformation of Glasgow. Our ambition is for fair economic growth and a stronger city. We have become aware from our citywide discussions that resilience emerges from a range of inputs. This Strategy has a key role itself in helping to connect\n",
      "those inputs and to ensure our city considers resilience as an explicit and intended product of our work.\n",
      "Whilst the strategy vision is directed to the long-term future, the actions detailed in it have an initial two year timeframe for delivery. Thereafter, this action plan will be subject to a refresh ensuring that a clear focus on action is maintained and a continuing dialogue with residents is created.\n",
      "Our Resilient Glasgow Strategy has been shaped through engagement with the people of Glasgow including residents, businesses, voluntary organisations and public sector partners.\n",
      "As Chief Resilience Officer, I will continue to work with city partners and communities to develop strong collaborative capacity to push forward the delivery and implementation of this Strategy.\n",
      "I give special thanks to all of our partners for their hard work and dedication in making this Strategy possible. My gratitude extends to the team at 100 Resilient Cities (100RC) for their energy and commitment and the 100RC Strategy Partner Arup for their instrumental guidance and support.\n",
      "Above all, my thanks go out to you, the people of Glasgow for sharing your aspirations and ideas for a stronger and more resilient future. Your confidence and enthusiasm has been an inspiration to me throughout this process.\n",
      "100 Resilient Cities is honoured to partner with the great city of Glasgow\n",
      "in their effort to pioneer solutions and develop an actionable roadmap to\n",
      "resilience building. Embedding resilience in the fabric of a city's planning\n",
      "and policymaking can create a thriving city in good times and bad, and yield\n",
      "dividends that will make a city stronger for years to come.\n",
      "First and foremost, this would not have happened without the vision and passion of Council Leader Cllr. Frank McAveety, Alastair Brown, the Chief Resilience Officer, and his extraordinary support team, who have gone above and beyond the call of duty to produce this visionary document. A highly engaged steering committee,\n",
      "the members of five diligent working groups, and Arup were instrumental in\n",
      "guiding and informing this process.\n",
      "Glasgow's rich history, architecture, and culture are a testament to its resilience. The city has met many of the challenges of transitioning from an industrial to post-industrial city with innovation and creativity. During their resilience strategy process, the “Glasgow Game” showcased an extraordinarily robust and diverse approach to engaging stakeholders around a variety of future scenarios that are relevant for Glasgow. This is crucial. Today's challenges may not be the same tomorrow. Building lasting urban resilience requires recognizing the interplay of a city's strengths, weaknesses, shocks, and stresses. It is about bolstering the foundation of a city so that it can respond to new, unforeseen events. It is also about making decisions under circumstances where institutional and individual financial resources are limited.\n",
      "100 Resilient Cities is committed to working with Glasgow in the coming years.\n",
      "We bring with us a powerful cadre of public, private, and academic sector partners\n",
      "- the “100RC Platform” - that are also committed to this partnership. Unlocking this\n",
      "support and signalling a growing marketplace that is interested in working with\n",
      "cities that incorporate resilience thinking into their planning process is a key tenet\n",
      "of the 100RC philosophy. We are excited to work with Glasgow at the forefront of a new global movement to build urban resilience. And cities and nations near and far\n",
      "are taking note of these ground breaking achievements!\n",
      "highlights the key indicators that any resilient city should aim to fulfil. This tool, designed by Arup with support from The Rockefeller Foundation, is a framework through which Glasgow will continue to assess the connections between our resilience challenges, review areas of\n",
      "weakness, and recognise opportunities to build on our many strengths.\n",
      "We integrate both types of challenges through this strategy, particularly building on Glasgow's\n",
      "existing strong approach to emergency planning and response within a broader agenda of\n",
      "resilience to daily stresses.\n",
      "Further, we recognise the following qualities as being an integral part of Glasgow's story.\n",
      "We will continue to integrate these qualities into our day to day business so that we not only maintain essential functions in the face of acute shocks and chronic stresses, but also grow and thrive through them.\n",
      "100resilientcities.org\n",
      "OUR RESILIENCE STRATEGY\n",
      "This Resilience Strategy is the main output of our work with 100RC to date, and the starting point for a holistic programme of resilience action. Development of the Strategy has been led by Glasgow City Council and partners, however, it belongs to the City of Glasgow and we hope that you will all play a part in moving us collectively towards a more resilient future. This Strategy has emerged from an extensive programme of work including research and analysis of the actions already underway throughout the city that contribute to resilience. This has been considered alongside in-depth consultation with Glaswegians and advice\n",
      "provided by expert stakeholders through regular Steering Group and Working Group\n",
      "meetings. This approach has given us the opportunity to identify where there may be gaps\n",
      "in our existing approach and opportunities to build on the great work we are already doing. Our membership of a global network of cities has given us the opportunity to think about our future and how we can plan ahead with a global approach. Whilst adaptation to climate change remains a principal focus of Glasgow's approach, this peer network allows us to\n",
      "share experience about the challenges of planning for a variety of chronic stresses and\n",
      "acute shocks in urban life. As a result, the scope of our Resilience Strategy has broadened.\n",
      "The future is always uncertain, but there are things we can do now and actions we can set in motion which can help us to be more resilient in the face of the challenges which that future will undoubtedly bring. This Strategy commits us to addressing challenges proactively,\n",
      "starting today.\n",
      "Our Resilient Glasgow Strategy is structured around four ‘strategic pillars' and fifteen ‘goals', which set out the long-term trajectory for Glasgow's resilience. Within this, we have identified forty-nine actions that will be implemented during the next two years. After this time, our action plan will be reviewed and refreshed.\n",
      "Glasgow has an extraordinarily rich history characterised by unshakeable strength and\n",
      "continuous reinvention in the face of shocks and stresses. We can learn the lessons of our city's past to teach us how we can make a better future.\n",
      "Glasgow is an incredibly old site of human settlement. The remains of canoes from Stone\n",
      "Age times have been found, for example, by the banks of the Clyde. In one of our main\n",
      "parks an Iron Age camp has been excavated. And in the churchyard of Govan Old there is\n",
      "evidence of Christian burials dating back to the 5th Century, indicating that it is one of the\n",
      "very earliest places of Christian worship in Scotland.\n",
      "The city is known globally as one of the great powerhouses of the Industrial Revolution. In\n",
      "2015 we commemorated the 250th anniversary of James Watt conceiving of the separate\n",
      "condenser to the steam engine as he walked on Glasgow Green. This was perhaps the\n",
      "single most significant act in powering the Industrial Revolution. The ripples from Glasgow's transformation lapped the shores of the whole world: Glasgow made history on a grand scale. By the late 19th century Glasgow was an industrial powerhouse known as the Second\n",
      "City of the British Empire. It built a quarter of all locomotives in use anywhere in the world and a similar proportion of global shipping. Many of the city's architectural masterpieces, such as the City Chambers on George Square, date back to this period of economic\n",
      "prestige.\n",
      "Yet it is in the last two centuries that Glasgow has seen more change than in all its long\n",
      "previous history. It was one of the first cities in the world to experience the profound\n",
      "shocks of modernity as the Industrial Revolution led to its rapid expansion and a swelling\n",
      "population. Life expectancy for Glaswegians in the 1850s was just over 25 years.\n",
      "The city entered the 20th century as one of the most densely populated in Europe, with\n",
      "a population peaking at 1.1 million. 200,000 of its citizens served in the First World War,\n",
      "with many thousands being killed or returning to Glasgow with physical and psychological injuries.\n",
      "The city played a major role in the Second World War too. However, Glasgow experienced the twin shocks of very rapid de-industrialisation and population loss in the years that followed. Traditional industries were lost and unemployment rose.\n",
      "By the late 1940s and early 1950s, many families moved out of the crowded city to live in\n",
      "nearby new towns. Those who were left were often housed in groups of high rise flats that\n",
      "quickly lost their initial attraction and became associated with urban blight and crime. The\n",
      "city's population dramatically reduced to half its previous level by the 1990s.\n",
      "As a result, Glasgow's people have experienced chronic levels of stress which have\n",
      "produced profound disparities in income, health and opportunity. The most recent profile of our population's wellbeing shows the extent of the impact of the chronic stresses. Glasgow continues to have the poorest life expectancy in Scotland for both men and women, rich and poor. These are some of the issues to which our resilience strategy is very much directed.\n",
      "For some cities, a narrative of managed economic decline would have ensued from such\n",
      "stress. Not for Glasgow. The city took steps to diversify its economy and build a more\n",
      "attractive place for families. At the centre of this approach were the city's world class\n",
      "museums and galleries, together with one of the most vibrant artistic and cultural sectors\n",
      "anywhere in Europe. Glasgow has highlighted its architectural assets, promoted its sporting credentials, and drawn on its strong further and higher education sector. Above all, the city has always regarded its communities as its most important asset and in 2013 adopted a new brand to reflect this: People Make Glasgow.\n",
      "The city's economy has developed and changed, from a carbon-intensive manufacturing\n",
      "base in the 19th century to a modern city focused on a low-carbon future. Population loss\n",
      "has been halted and the city's population is now expected to grow by 15% by 2037. This is in no small part due to Glasgow being an attractive place in which people choose to make their lives. As a result, Glasgow is the most ethnically diverse city in Scotland.\n",
      "The city was tested once again in the recession brought about by the financial collapses of 2007/08, which it has weathered with significantly lower losses in production and economic activity than in previous downturns.\n",
      "In 2014, the city was the proud host of the Commonwealth Games and, along with other major events that year, Glasgow was seen on television by one third of the entire world population.\n",
      "During our conversations with Glaswegians on what makes Glasgow a resilient city we found\n",
      "that they like to talk of their ‘bounceback-ability' factor - an ability to cope and even thrive\n",
      "through hard times. Our history of resilience and transformation is testament to that. This is why People Make Glasgow Resilient.\n",
      "As the biggest city in Scotland, Glasgow is the economic engine and main commercial\n",
      "hub not only for the region but the country as a whole. With almost half of population of\n",
      "the entire country entire living within an hour of the city, the resilience of our institutions,\n",
      "economy, people and infrastructure is not only of local importance. Our resilience plays a crucial role regionally as well as nationally.\n",
      "The most diverse population in Scotland with 1 in 7 Glaswegians coming from an ethnic minority background.\n",
      "The largest student population in Scotland with 5 degree awarding institutions and 3 super colleges. We educate over 130,000 students each year.\n",
      "We have over 3,500 hectares of green space and 91 public parks.\n",
      "17 billion GVA generated to the Scottish economy each year.\n",
      "Employment levels are currently growing at 3.4% a year.\n",
      "A population that is expected to grow rapidly by 15% over the next 20 years.\n",
      "58% of residents live within 500m of vacant and derelict land.\n",
      "13% of adults hold no formal qualification.\n",
      "A violent crime rate that is twice the national average.\n",
      "36% of households experience fuel poverty, a growing trend.\n",
      "RESILIENCE IN ACTION\n",
      "OUR RESILIENCE STRATEGY\n",
      "This strategy brings together aspects of Glasgow City Council's Strategic Plan, the Glasgow\n",
      "Community Planning Partnership's Single Outcome Agreement, the Poverty Leadership Panel's strategy to tackle poverty, and Glasgow's proposed City Development Plan. By aligning our strategic pillars to this policy context, we ensure the Resilience Strategy is integrated into an existing framework and adds value to the city. The following diagram visualises the relationship between Glasgow's strategic objectives and our four pillars of resilience.\n",
      "STRATEGIC PILLARS OF RESILIENCE\n",
      "The objectives of a broad range of city wide strategies, initiatives and actions are crucial for the development of our urban resilience. Our strategic pillars and indeed the city vision, have been designed to pull existing initiatives together so that these work together in a whole-systems approach.\n",
      "The image below shows some of the partnerships and strategies that have been recognised as playing a crucial role on our journey to greater resilience. These were identified by our\n",
      "city partners during early preliminary resilience assessment activity. It is by no means an\n",
      "exhaustive list.\n",
      "By working with our city partners, we will take a whole-systems approach that embeds longterm resilience thinking into existing national, regional and local strategies and initiatives. This will reinforce structural connections and delivery mechanisms between this strategy and the initiatives being delivered elsewhere in the city, meaning that our overall approach to resilience building activity is strengthened. This will also help us to monitor and track the delivery of this strategy.\n",
      "This is an agile strategy. The actions contained within this document are short-term and have been developed as iterative interventions that will help us to connect existing strategies and initiatives through the application of a resilience lens.\n",
      "These actions will be refreshed again in 2018 to ensure the strategy remains current in a city that is constantly transforming. All of our goals and actions are summarised in the strategy action plan. Some feature goals and actions are explained in full here in this strategy\n",
      "Glasgow's strategic context is sophisticated and well developed. Partners are generally agreed that the city has a good reputation and state of preparedness for dealing with sudden shocks, managed through the city's long-standing Resilience Unit and our emergency services. The city maintains a risk register for its key assets and regularly engages in emergency planning exercises.\n",
      "Attention has therefore focused on the chronic stresses over long time periods\n",
      "to which the city and its people have been subject - in particular those relating to poverty and inequality - and how best to address these over the coming\n",
      "decades. Once we started this conversation and talked more with our partners\n",
      "about resilience it became clear that these are the issues which are regarded\n",
      "locally as really significant challenges and have naturally emerged as the\n",
      "foundation of our strategy.\n",
      "By further considering how potential shocks and stresses could impact on our\n",
      "city, we have been identifying how our existing capacity can be strengthened.\n",
      "The examples on the next page highlight just some of the work that is already effecting\n",
      "change for people, places, institutions and the economy across the city. In preparing this\n",
      "Resilience Strategy, we identified opportunities to build on what we're already doing and set out a strategic direction to address our challenges in the longer term. We evaluated these opportunities in terms of the resilience benefits they would bring for Glaswegians in addition to the feasibility of implementation. This has allowed us to reach the pillars, goals and actions outlined in this strategy.\n",
      "CHALLENGE\n",
      "CHALLENGE\n",
      "EXISTING ACTION\n",
      "EXISTING ACTION\n",
      "LISTENING TO GLASWEGIANS\n",
      "A key aspect of Glasgow's resilience work has been engagement with a wide range of both\n",
      "institutional stakeholders and residents. This has taken place in order to determine what they regard as the city's resilience priorities and to build ownership and commitment towards a strategy that addresses them. Workshops have been held and provided with facilitation by Glasgow's Strategy Partner Arup. A Steering Group, chaired by the city's Chief Resilience\n",
      "Officer, has also been established to consider in further detail the materials generated by\n",
      "these workshops.\n",
      "We engaged in a wide-ranging Resilient Glasgow conversation with local people in the summer of 2015. Activity was promoted through social media and tailored communications designed to reach out to specific groups of people. Collaboration took place with public\n",
      "health researchers, council officers, change practitioners, artists and professional facilitators in order to foster high levels of participation and active dialogue in the city's resilience conversation.\n",
      "The engagement process consisted of the following:\n",
      "• Face-to-face conversations - These took place through the use of interactive techniques which included street games, participative art and public installations. The Resilient Glasgow team visited 15 locations over 25 days, speaking with over 1,500 people. People expressed their views by drawing and writing messages on blackboards and telling their stories to officers from the Resilient Glasgow team. Over 500 responses were received.\n",
      "• Targeted workshops - 12 workshops were held with nine stakeholder groups, including the Glasgow Disability Alliance; West of Scotland Racial Equality Council; Interfaith Glasgow; Glasgow Homelessness Network and the City Mission. Workshops were facilitated using an exercise called ‘The Glasgow Game', which uses role play to explore the complexities of resilience through different future scenarios. Over 300 participants attended.\n",
      "• On-line survey - Over 100 members of the public responded to a detailed online survey about the draft themes of Glasgow's initial resilience plans. The survey was designed to interrogate the themes and to generate opportunities for new thinking which could be incorporated into the next phase of work.\n",
      "OUR RESILIENT GLASGOW STRATEGY\n",
      "29\n",
      "GLASGOW'S STRATEGIC PILLARS, GOALS AND ACTIONS\n",
      "At the foundation of this strategy is a commitment to embedding resilience thinking\n",
      "into existing realms of work that support the delivery of our vision. This will mean\n",
      "that the policies and plans that have informed the development of this strategy will\n",
      "become delivery vehicles that strengthen our approach.\n",
      "The diagnostic work undertaken during the development of our Resilience Strategy\n",
      "has led to four strategic pillars, which provide the long-term overarching framework\n",
      "through which we will deliver our vision for a Resilient Glasgow. Each pillar is defined by a number of goals.\n",
      "PILLAR 1\n",
      "WE WILL:\n",
      "EMPOWER GLASWEGIANS\n",
      "GOAL A GOAL B\n",
      "GOAL C GOAL D\n",
      "Improve equitable access to quality local services that foster wellbeing.\n",
      "Empower community leaders through cooperation between city partners and the third sector.\n",
      "Use existing assets to create healthy, safe and inclusive spaces for the\n",
      "community to network, helping to mitigate social isolation\n",
      "Influence the Scottish Government agenda on social and community\n",
      "resilience.\n",
      "PILLAR 2\n",
      "WE WILL:\n",
      "UNLOCK PLACE-BASED SOLUTIONS\n",
      "GOAL A\n",
      "GOAL B GOAL C\n",
      "Create an integrated resilience exemplar in the north of the city.\n",
      "Tackle the local impacts of global climate change.\n",
      "Unlock the community, environmental and economic potential of derelict and vacant sites in Glasgow.\n",
      "PILLAR 3\n",
      "WE WILL:\n",
      "INNOVATE TO SUPPORT FAIR ECONOMIC GROWTH\n",
      "GOAL A\tSupport new urban solutions, business development and new technology ideas.\n",
      "GOAL B\tThrough a ‘New Approach to Enterprise' support new and existing\n",
      "businesses to grow.\n",
      "GOAL C\tInitiate a post-industrial city sub-group with our 100RC partners to share\n",
      "and learn from best practice.\n",
      "GOAL D Tackle poverty, including in-work poverty and In Work Progression, and create meaningful work for Glaswegians.\n",
      "GOAL E\tContinue to increase the skill levels of Glasgow's working age population.\n",
      "PILLAR 4\n",
      "WE WILL:\n",
      "FOSTER CIVIC PARTICIPATION\n",
      "GOAL A\n",
      "GOAL B\n",
      "Build capacity among citizens and decision-makers, enabling them to apply resilience thinking to their daily work and lives.\n",
      "Identify the opportunities for resilience building associated with devolution of powers to and from the city council.\n",
      "STRATEGIC PILLAR 1\n",
      "EMPOWERING GLASWEGIANS\n",
      "if\n",
      "Educated and engaged communities\n",
      "are an untapped asset for building resilience\n",
      "Participant from the West of Scotland Regional Equalities Council at the Resilient Glasgow Glasgow Game\n",
      "Glasgow is a diverse city. It is also a city of inequality. We want to create a fairer, more equal society that is resilient to a range of potential futures.\n",
      "The education of all Glaswegians is central to the development of a resilient city. Learning and development empowers the growth of more resilient people, individually and collectively. This includes community learning support and interventions as well as the education of our children and young people.\n",
      "The existing education system is geared towards the delivery of an inclusive and holistic\n",
      "curriculum that maintains a breadth in the range of subject areas covered, whilst also\n",
      "building solid foundations for later specialisation. The principles of personalisation, choice,\n",
      "challenge and progression are vital to the development of flexible and capable global\n",
      "citizens.\n",
      "The link between poverty and deprivation and educational attainment is well known. We will support our education partners to continue building successful and resilient schools that serve the needs of our more deprived communities and work to reduce child poverty and its impact on attainment.\n",
      "It is also our belief that a fairer Glasgow is a city where partners work in collaboration to\n",
      "strengthen the entire city. Our aspiration is to have open and transparent relationships\n",
      "between communities and the institutions that serve them. Autonomous and resourceful\n",
      "communities are crucial for a more resilient city and we want to empower all Glaswegians to be able to shape the future of their neighbourhoods.\n",
      "We will promote the delivery of innovative initiatives that engage communities with the coordination of decisions affect their future. The ability for community groups to participate in conversations about how budgets are allocated and resources managed is one that requires us to re-examine existing ways of working. Through the Glasgow Community Planning Partnership, and in line with our aspiration to facilitate the growth of cooperative businesses and social enterprises, we are reflecting on the relationships we must develop in order to build skills and confidence within our communities. The Community Empowerment Act (Scotland) 2015 provides further opportunities for community groups to influence how spaces and assets are programmed for public use. We will examine the potential as well as the legislative implications for devolving power for communities to utilise and grow their existing sources of resilience.\n",
      "This strategic pillar also recognises that Glaswegians are our greatest asset when dealing\n",
      "with a challenge. The social support provided is unpaid and voluntary, relying on the good\n",
      "will of our neighbours and friends. We believe the investment and commitment from\n",
      "individuals through formal and informal volunteering is a good mark of urban resilience in\n",
      "Glasgow. With this in mind, we will support the delivery of initiatives that help us to broaden our volunteering capacity across the entire city.\n",
      "RESILIENCE VALUE\n",
      "Glasgow will be a city where all citizens have access to high quality services that foster\n",
      "wellbeing.\n",
      "This will increase the flexibility and adaptability of our local communities and strengthen their ability deal with new and existing challenges. It will also promote engaged communities and ensure the continuity of critical services.\n",
      "Description: We will work with businesses and local community groups to map the availability of important local services and identify where there may be service gaps. Using Geographical Information Systems (GIS) we will work with communities to analyse this data against a selection of social indicators to determine whether services are being appropriately delivered. This information will be made available to our partners, social enterprises and start-ups to assist\n",
      "the development of new solutions that target these gaps.\n",
      "Timescale: Short Term - 2016 - 2018\n",
      "Description: Business continuity plans are designed to ensure services are able to operate and recover quickly when they are affected by shocks - such as flooding - and stresses - such as increasing demand for services. These plans are typically\n",
      "prepared by individual organisations, with only limited consultation and coordination between service providers whose operations affect others. To ensure improved integration across critical organisations and reduced risk of cascading failures from one service to another which could affect people and businesses, we will identify the national, regional and local functions that are most critical and convene a cross-sector working group to stress test the existing business continuity plans and take steps to integrate them, with the objective to ensure that critical services remain functional and accessible,\n",
      "regardless of future circumstances.\n",
      "Timescale: Short Term - 2017 - 2018\n",
      "RESILIENCE VALUE\n",
      "Glasgow will be a city with strong collaborative capacity for capitalising on opportunities to connect new and existing models that support societal resilience. By strengthening our shared vision through shared leadership, we will foster stronger community pride, better support vulnerable people and improve access to well-paid and rewarding employment. This will help us to address the social and material dimensions of poverty and deprivation with a long-term reduction in health and economic inequalities and improved integrated governance.\n",
      "Description: Local people are experts on what is needed to make their neighbourhoods\n",
      "thrive. We want to understand how to engage with people at a neighbourhood level to build on positive assets, address inequality and increase opportunity. There are a number of high impact initiatives in Glasgow that focus on\n",
      "developing community resilience at a local level. We want to understand how\n",
      "these pockets of excellent practice can be extended beyond the current reach for the benefit of all communities. We will analyse case studies and university-led research to develop our knowledge in this area. Where we learn from\n",
      "this best practice, we will roll this out to develop grassroots leaders who are\n",
      "empowered to make important decisions that benefit local communities. We\n",
      "will develop briefings for third sector support to Glasgow's community leaders and development workers. Timescale: Short Term - 2016 - 2017\n",
      "Description: Robust volunteering networks leverage social capital and enhance community\n",
      "cohesion, both qualities required for societal resilience.\n",
      "We will apply a resilience lens to the strategic volunteering charter to help\n",
      "define how the resilience drivers can be better connected to deliver a more\n",
      "impactful approach. The strategic volunteering charter will outline the\n",
      "framework by which the city will enhance and support volunteers over the\n",
      "coming years. Particular areas of focus will feature around individuals in\n",
      "poverty, those affected by early years' childcare challenges and young people\n",
      "who require support on their path towards full and fulfilling employment jobs\n",
      "where pay and conditions can sustain us and our families and enable us to\n",
      "build and live our lives. Increasing these levels of ‘work and worth' will support activities that provide intergenerational, communication and confidence building skills and other essential skills to support paid employment. The social skills earned in this way are widely recognised and the social cohesion that they generate across communities and cities must be fully defined to demonstrate the importance of volunteering work.\n",
      "The charter will specifically outline work of the Strategic Volunteering\n",
      "Framework Group, and align with the “Case for Change” national document.\n",
      "We need to enhance and support existing multi-agency forums to enrich and\n",
      "develop volunteering networks in the city. This will include encouraging city\n",
      "stakeholders and in particular employers to allow their staff time to volunteer.\n",
      "This will also seek to address challenges and obstacles to volunteering,\n",
      "ensuring work with communities to enhance existing activity.\n",
      "Timescale: Short Term - 2016\n",
      "Expand with narrative. - helping national agenda, benefiting from City Deal, delivering for\n",
      "Scotland and UK\n",
      "STRATEGIC PILLAR 2\n",
      "UNLOCKING PLACE BASED SOLUTIONS\n",
      "The City Development Plan (CDP) will, once adopted, play a central role in guiding the\n",
      "delivery of a place based approach to improving personal, community and economic\n",
      "resilience. The LDP has been informed by and aligns with the Strategic Plan objectives and promotes a policy framework that gives priority to achieving successful placemaking.\n",
      "A Resilient Glasgow is a city that has the potential to transform itself. A number of significant place-based priorities are helping us along this journey. These include the delivery of the £1.13 billion City Deal for Glasgow, the development of the Sighthill Transformation Regeneration Area (TRA), the Single Outcome Agreement's Thriving Places initiative as well as other Housing, City Centre and Canal Regenerations. Both programmes will deliver massive resilience dividends through the implementation of major infrastructure, innovation and labour market projects.\n",
      "Our approach to improving the critical infrastructure of our city is underpinned by our\n",
      "ambition to be the most sustainable city in Europe. Through the implementation of\n",
      "place-based solutions, we seek to become more resilient to the changing environmental\n",
      "conditions that threaten to undermine our physical and social integrity. In particular, we want to achieve:\n",
      "• A low carbon footprint and improved air quality\n",
      "• Connected transport infrastructure for businesses and communities\n",
      "• Accessible, affordable and green ways for communities to move about Glasgow\n",
      "• An energy efficient future\n",
      "• Investment and jobs within local communities\n",
      "• Good access to physical and digital infrastructure\n",
      "We will build on the success of exemplar partnerships that are already delivering\n",
      "programmes and will increase our capacity to cope with climate change. These include the Canal Partnership, the Metropolitan Glasgow Strategic Drainage Partnerships (MGSDP), Glasgow and Clyde Valley Green Network Partnership (GCVGN) and the Climate Ready Clyde initiative.\n",
      "We focus our attention on bringing together businesses, communities, artists, technical\n",
      "experts and academic specialists in a joined up effort to build awareness and facilitate the\n",
      "development of an integrated climate change adaptation plan.\n",
      "We recognise that informed, design above and below ground is essential for resilient\n",
      "development particularly as much of the ageing infrastructure/networks are underground.\n",
      "This will give us opportunities as well as challenges. Furthermore, this theme also addresses issues of public safety and security, by considering how the design of public spaces can deter crime and anti-social behaviour, and how emergency services and the community sector can help to manage public safety risks in an integrated way.\n",
      "The implementation of the new CDP is crucial for the continued development of societal\n",
      "and economic resilience in Glasgow. Our new plan will provide a concise framework for the delivery of sustainable, vibrant and distinctive places that are well-designed, safe, healthy and inclusive, contributing towards improving health and wellbeing as well as encouraging future investment\n",
      "To help us deliver on this strategic pillar, we will focus our immediate attention towards the development of resilience in the north of the city. We will develop an approach to resilience building that then inform similar work with communities in other parts of Glasgow.\n",
      "RESILIENCE VALUE\n",
      "The community, environmental and economic potential of derelict and vacant sites in\n",
      "Glasgow will be unlocked. By using 3D modelling to map vacant and derelict land we will be able to de-risk development by identifying new opportunities above and below ground. This will promote development opportunities associated with sites in order to attract developers and promote economic regeneration, compact city development and appropriate services.\n",
      "Description: We will develop spatial supplementary guidance that integrates the drivers and qualities of resilience. This will help us ensure that we consider the longterm integrity of our city as business as usual. We recognise that one unit of planning will reduce response actions by between four and seven units of\n",
      "expenditure. Our approach will reduce future requirements to address physical vulnerabilities through costly retrospective action.\n",
      "This action will increase stakeholder visibility of what is happening in the north\n",
      "of Glasgow, enabling the coordination of impactful decision\n",
      "Timescale: Short Term - 2016 - 2018\n",
      "Creating a more robust, inclusive and integrated city through integrated planning.\n",
      "In 2007 Glasgow won its bid to host the 2014 Commonwealth Games, and began 7 years of planning for the ‘Best Games Ever'. Underpinning the Glasgow 2014 Commonwealth Games was our ambition to create a more flourishing, active, connected and sustainable Scotland.\n",
      "The Games were an opportunity to bring vitality into areas of the city that had suffered most\n",
      "during an extended period of deindustrialisation and population decline - in particular the\n",
      "East End of the city.\n",
      "The multi-agency partner Clyde Gateway was established to manage the regeneration\n",
      "efforts in the East End. Partnering agencies consulted intensively with local communities\n",
      "to build on community strengths and maximise social benefits. These regeneration efforts\n",
      "included new roads infrastructure, refurbished existing venues and the new Emirates Arena and Sir Chris Hoy Velodrome. One of the biggest success stories is the Athletes Village.\n",
      "Construction work on the Athletes' village began in June 2011. During the Games, the\n",
      "village provided accommodation and facilities for 6,500 competitors and officials. Following the Games, the properties were retrofit to transform the village to offer 700 affordable new homes, including 400 homes for social rent and a new 120 bed care home for the elderly.\n",
      "The development is one of the most significant new urban housing developments in the\n",
      "UK and was constructed to the highest (BREEAM Excellent) environmental standards. Now\n",
      "an exemplar ‘eco-village', residents benefit from living in flood resilient properties, energy\n",
      "efficient properties, a Combined Heat and Power Energy Centre which provides hot water to\n",
      "all properties, sustainable and accessible green space and improved transportation links to the area.\n",
      "Through the ERDF URBACT III Resilient Europe project, we will work with local agencies\n",
      "and communities in the Possilpark neighbourhood of Glasgow to develop an integrated\n",
      "local action plan for building resilience. We will build on the Thriving Places initiative with\n",
      "a particular focus on the environmental, social and economic challenges being faced by\n",
      "the local community. We will develop an approach that can then be rolled out to other communities and neighbourhoods in Glasgow.\n",
      "This activity will help us to develop increased collaborative capacity between communities\n",
      "and institution. We will want to empower communities through the development of a greater understand of local resilience pressures and opportunities.\n",
      "RESILIENCE VALUE\n",
      "Glasgow will be more resilient in the face of climate change risks. We will foster long-term\n",
      "and integrated planning that empowers communities and promotes local leadership. We\n",
      "will take advantage of climate change threat as an opportunity to enhance our natural and manmade assets, improving quality of life for all Glaswegians. We will seek opportunities to invest in integrated infrastructure projects that increase social justice whilst providing local communities with new skills and employment opportunities.\n",
      "Description: Sustainable water management solutions - such as open channels, ponds and\n",
      "rain gardens for storing and treating surface water - can offer practical benefits\n",
      "for reducing flood risk locally and further downstream whilst providing a level\n",
      "of water treatment. They also provide as social, economic and environmental advantages for communities and people. If managed well, they can be an\n",
      "aesthetic and amenity feature for communities and can improve local property values compared with a heavily engineered drainage solution. This green infrastructure is a shift from the drainage infrastructure of the past, which aimed to remove water quickly to drains and sewers below ground. There is therefore a cultural shift to be achieved to ensure that developers and citizens in Glasgow recognise the value of green infrastructure solutions and are able to maximise the amenity value of new green and blue spaces in the city. To find ways for Glasgow's communities to get the most out of the water management solutions we are being implemented throughout the city, Glasgow will engage with the wider network of 100RC cities to gather best practice guidance and learning from successful existing projects around the world.\n",
      "Timescale: Short-term 2016\n",
      "Description: As the local climate changes over time, Glasgow's buildings and infrastructure\n",
      "will need to withstand shifting conditions including changes in temperature\n",
      "and rainfall, and more extreme weather. As many of the city's existing buildings will still be standing in 30 years and more, they must be able to adapt to climate trends and future impacts. A climate ready design guidance scheme will help designers and developers to design new buildings and infrastructure to respond to anticipated future conditions, and to retrofit existing buildings to cope with these changes too. The guidance will particularly take into account the heritage buildings that we have throughout Glasgow, which are an important part of our local identity and an attraction to visitors, but which\n",
      "present particular challenges for future proofing.\n",
      "Timescale: Short Term - 2018 - 2019\n",
      "UPGRADING OUR DRAINAGE INFRASTRUCTURE TO ACCOMODATE\n",
      "SEVERE RAINFALL EVENTS\n",
      "The Metropolitan Glasgow Strategic Drainage Partnership (MGSDP - www.mgsdp.org) is\n",
      "collaborative partnership between local authorities, the Scottish Environment Protection\n",
      "Agency, Scottish Water, Scottish Enterprise, Clyde Gateway and Scottish Canals. The Vision\n",
      "is to transform how the city region thinks about and manages rainfall to end uncontrolled\n",
      "flooding and improve water quality. The partnership seeks to upgrade and modernise the Glasgow area's drainage and sewerage network, reducing flooding and improving the\n",
      "quality of our river water. The initiative plays an important role in contributing to economic\n",
      "development whilst improving our natural environment and integrating investment\n",
      "planning.\n",
      "Since 2002, the MGSDP has developed efficient and robust systems that have helped to:\n",
      "• Significantly reduce the risk and impacts of flooding to over 7,000 properties\n",
      "•\tProtect hundreds of homes and businesses through various flood prevention schemes\n",
      "•\tInvest over £150million to reduce the risk and impacts of sewer flooding and improve water quality\n",
      "• Improve and protect the natural environment of the region\n",
      "The MGSDP partners will continue to make significant investment in the coming years to\n",
      "continue to deliver the Vision through the MGSDP Guiding Principles (following page).\n",
      "STRATEGIC PILLAR 3\n",
      "INNOVATING FOR FAIR ECONOMIC GROWTH\n",
      "Glasgow has weathered a massive\n",
      "economic transition and we must\n",
      "make sure we are prepared for future challenges\n",
      "Participant from the West of Scotland Regional Equalities Council at the Resilient Glasgow Glasgow Game\n",
      "The recession has been one of the most significant stresses to have challenged the\n",
      "economy of our city. It has had a real impact on the city, testing the resilience of our people, businesses and organisations. Despite facing one of the most serious economic recessions of all time, we successfully hosted the ‘Best Games Ever', the Commonwealth Games 2014. Confronting one of the most significant stresses to have challenged our resilience, we\n",
      "embraced an opportunity that would deliver a real economic impact for the city and catalyse positive change for the lives of Glaswegians.\n",
      "A resilient Glasgow confronts adversity to be a city of prosperity that provides a high quality of life for all. Our future city is a centre of innovation, production and culture. It is also a city that offers Glaswegians a good quality of life. We will support the development of economic interventions that enhance the strength of our communities.\n",
      "Through the Single Outcome Agreement, which maps out our shared priorities for partners in the city, we will work with our community planning partners to continue maintain a key focus that addresses youth unemployment. We will work with economic development\n",
      "structures and our educational systems to ensure that our children and young people\n",
      "are sufficiently developed in a way that prepares them with the skills required by our\n",
      "communities and businesses. We will support businesses to take advantage of and grow\n",
      "from the assets, skills and enthusiasm of our young people.\n",
      "At the same time, we will support the delivery of digital skills to not only consume services\n",
      "but to be the producers of new goods and services, harnessing the potential of digital\n",
      "technologies to drive growth, stimulate innovation and improve productivity\n",
      "Glasgow is the economic centre for Scotland and we want to compete with other cities in\n",
      "Scotland and the wider UK. We have a strong and well-developed service based economy\n",
      "and we want to further diversify our economic model. We will do this by attracting and\n",
      "retaining a diversity of successful business that will secure long-term economic resilience.\n",
      "At the same time we will develop the economic resilience of individual new businesses,\n",
      "supporting them through the entire business cycle from start-up through to growth and\n",
      "maturity.\n",
      "RESILIENCE VALUE\n",
      "We believe the personal resilience of Glaswegians is inextricably linked to availability of\n",
      "meaningful and fulfilling employment. By supporting initiatives that increase the economic\n",
      "growth of Glasgow we will support livelihoods and employment, increase the sense of worth\n",
      "within communities. By fostering economic prosperity, we will unlock barriers that prevent Glaswegians from finding employment that is personally and socially rewarding.\n",
      "Description: Open data is an enabler for greater resilience. It accelerates innovation between community groups, partners and entrepreneurs. This action will allow for the coordination of well informed decisions that can facilitate economic growth in a way that delivers social and environmental benefits. Building on the success of the Future City Glasgow initiative, we will bring together communities and businesses with partners who are currently working on the development of\n",
      "smart, digital interventions. Through increased collaborative capacity, we seek to navigate the challenges associated with the opening of data sets within the city.\n",
      "Timescale: Short Term - 2016 - 2017\n",
      "Description: Over the next two years, Glasgow will hold five challenges for entrepreneurs and start-ups, which will equate to 100 days in total. We want to build on our reputation as a centre of creativity and innovation, allowing skills and capacity to emerge from Glaswegians to define the shape of our future economic activity. We will also host a series of youth hackathons that supporting the development of our young people and identify new smart solutions that we can use to\n",
      "address specific resilience challenges.\n",
      "Timescale: Short Term - 2016 - 2017\n",
      "RESILIENCE VALUE\n",
      "Glasgow will share lessons and experience that can be used to develop resilience amongst\n",
      "partner cities. We will develop an understanding that will inform our approach to the chronic stresses that are associated with a post-industrial legacy. We will develop new ways for stimulating entrepreneurial activity, approaches to developing circular economy activity and different strategies for people centred design. This goal will increase resilience across all of the dimensions of the City Resilience Framework.\n",
      "Description: We will initiate a sub-group with 100RC, inviting relevant post-industrial cities to participate. Glasgow will chair initial meetings. Topics for exploration include local economic pressures, business continuity planning, unemployment and\n",
      "crime and vandalism. Glasgow will chair the first meeting of the post-industrial\n",
      "city sub-group.\n",
      "Timescale: Short Term - 2016\n",
      "INTEGRATED AND RESOURCEFUL LEADERSHIP FOR ROBUST ECONOMIC\n",
      "DEVELOPMENT\n",
      "The Glasgow Economic Leadership (GEL) was established in 2011 to provide independent\n",
      "leadership and direction to economic development activity in Glasgow and to champion\n",
      "the implementation of the recommendations made by the Glasgow Economic Commission. The Group, chaired by Professor Sir Jim McDonald, acts as a senior advisory body to the City Council but also to national bodies like Scottish Enterprise and Skills Development Scotland, which have investments to make in the growth of the city of Glasgow.\n",
      "STRATEGIC PILLAR 4\n",
      "FOSTERING CIVIC PARTICIPATION\n",
      "We are proud of our trusted institutions and will build upon them to ensure a fair and\n",
      "equitable approach towards all Glaswegians. We will encourage and support a resilient vision at the heart of every public facing institution to ensure we are strong for the future.\n",
      "Glasgow's success is reliant on the systems and institutions that deliver services. To ensure\n",
      "the city runs smoothly, it is essential that Glaswegians receive the support and services\n",
      "they need and that these services are targeted appropriately. These critical services and\n",
      "systems are delivered by a broad range of public institutions - including Glasgow City\n",
      "Council, the NHS, Scottish and UK government departments and agencies, Further and Higher education institutions, as well as the third sector, and the commercial sector. The\n",
      "approach, objectives, responsibilities and scope of operation of these organisations do not\n",
      "always reflect the boundaries and priorities of Glasgow - but may be set by wider agendas. These organisations are challenged on a daily basis by shifting macroeconomic trends or economic pressures.\n",
      "There is no getting away from the fact that these are difficult times for Glasgow. Through the Transforming Glasgow programme, we are reshaping the way services are delivered to better meet the needs of Glaswegians. The focus is on developing more resilient service\n",
      "delivery mechanisms that are fit for purpose, agile and responsive in the context of financial challenges, legislative changes and city priorities.\n",
      "A collaborative approach is essential to improve the targeting and quality of services - with an improved understanding of gaps and the critical linkages and dependencies between\n",
      "different organisations and services. A relevant example is the current review of social and health care to deliver a more joined up and efficient service.\n",
      "RESILIENCE VALUE\n",
      "Glaswegians will understand the challenges the city is facing and have the information they need in order to make smart and informed decisions now, and to plan for long-term\n",
      "challenges.\n",
      "FEATURED ACTION 4.A.4. Pilot a city Resilience Dashboard.\n",
      "Description: We will develop a digital online dashboard that illustrates and connects resilience initiatives that are taking place across Glasgow. This dashboard will link into our Open Glasgow platform and will build on the principles of making data open, transparent and visually usable. The dashboard will be used to\n",
      "collate data, showcase success, share learning and monitor progress. We will include a north Glasgow page that is tailored to the actions contained in this strategy.\n",
      "This action will increase the capacity to make coordinated decisions that are\n",
      "in line with the Single Outcome Agreement and the Transforming Glasgow\n",
      "Programme, both of which are focused on partnership working to deliver better outcomes for the people of Glasgow. An essential principle for this action is a\n",
      "smarter use of assets.\n",
      "Timescale: Short Term - 2016 - 2017\n",
      "MAKING EFFECTIVE USE OF CITY DATA THROUGH OUR FUTURE CITIES PROGRAMME\n",
      "Through the Future City Glasgow programme, Glasgow has been exploring ways to harness the power of data and technology to make our city a better place to live, work and play. From the state-of the-art city operations centre to the creation of an innovative city data hub, Glasgow has been developing a series of initiatives to showcase the exiting potential offered by smart city technology.\n",
      "One example that put people at the very heart of the future city was the Easterhouse\n",
      "Addictions community mapping initiative with the Greater Easterhouse Alcohol Awareness Project (GEAPP). GEAPP is a local charity whose aim is to reduce the harm associated with the use of alcohol. A key goal for GEAPP is to help the community that it serves to discover what's on and what is available within the local area; not just alcohol recovery services, but anything that can keep people in recovery active in ways that provide an alternative to the addictive behaviour.\n",
      "Working with local communities with support from social enterprise Pidgin Perfect, and in\n",
      "collaboration with the Glasgow Community Planning Partnership and NHS Greater Glasgow and Clyde, a series of community mapping workshops were facilitated to map local assets and services available to people in recovery. A digitised the map was then developed,\n",
      "creating an online tool that allowed GEAPP and volunteers to maintain a local directory of\n",
      "services and assets.\n",
      "When people are in recovery it can be difficult for them to navigate the services that are\n",
      "available. If people cannot find the services they need they can disengage from the recovery process altogether, withdrawing from the community and back into addictive behaviours. Now, with the mapping tool, those in recovery can see what is going on in their area, making it easier for them to get the access to the services they need.\n",
      "By integrating data through local maps, this project brought together local stories with factual data in a way that enhances existing service delivery mechanisms. The resilience dividend is the creation and trust and empathy between agencies and communities.\n",
      "Description: We understand the importance of clear and concise information sharing.\n",
      "We understand the importance of continuous learning and that we need to document our journey for others to learn. In order to ensure a consistent and agreed approach to embed resilience through all organisations and structures. The city - through participation with the Smart Mature Resilient (SMR) Cities European Horizon 2020 project - will contribute towards the development of a resilience toolkit that provides resource and opportunities to develop and map city resilience. We will pilot and ensure the City Resilience Framework is integrated and aligned with the development of the toolkit. We understand the importance of information transfer and reducing silo thinking across city stakeholders. The development of an information exchange portal will work within suitable boundaries to create an easily accessible, easily navigated portal of city information relevant to city resilience.\n",
      "Timescale: Short Term - 2016 - 2017\n",
      "Description: We will commence this project by working with young people from our schools and colleges. Our aim is to embed a deeper understanding of resilience through our education system. By doing so we will look to increasing young people's awareness of the challenges facing Glasgow and the wider world. We believe that this greater understanding amongst young people is essential for developing our ability to respond to future shocks and stresses. To drive this knowledge and increase a sense of global citizenship among our young people, Glasgow will engage with 100RC and other cities in the 100RC network to create a schools cultural exchange programme that allows young Glaswegians\n",
      "to learn about the different resilience challenges we face.\n",
      "Timescale: Short Term - 2016 - 2017\n",
      "DELIVERING THE STRATEGY\n",
      "The actions contained within this strategy will be delivered over an initial two year period from 2016 to 2018. After this time, the actions will be refreshed.\n",
      "The remit of the Resilient Glasgow Steering Group is to provide directional support,\n",
      "guidance and influence on our journey to greater resilience. The Steering Group will act as a senior strategic body that will function as a multi-agency city partnership, bringing together our public sector partners, businesses, academics and voluntary organisations. The Steering Group will exist for the entire strategy implementation period.\n",
      "The Resilient Glasgow Steering Group will report formally to various Council Committees\n",
      "and other bodies as deemed appropriate.\n",
      "Supporting the Resilient Glasgow Steering Group will be the Resilient Glasgow Forum.\n",
      "The Resilient Glasgow Forum will consist of individuals from across the Council Family and our city partners. Members will have special interests, experience and knowledge in city resilience. The remit of the Resilient Glasgow Forum will be to:\n",
      "•\tEVALUATE the progress of the Resilient Glasgow Action Plan\n",
      "•\tKNIT together related or cross cutting initiatives\n",
      "•\tIDENTIFY new conversations that should be had with citywide stakeholders\n",
      "•\tPROMOTE the application of a resilience lens to citywide activity\n",
      "•\tCONSIDER the development of local and national influences\n",
      "•\tIDENTIFY new opportunities that should be pursued and integrated into our programme\n",
      "•\tDISSEMINATE learning at a citywide level.\n",
      "This strategy will be implemented with continued support and guidance from 100RC who\n",
      "will also provide additional resources through a selection of Platform Partners. Platform Partners are a variety of creative and influential global organisations committed to supporting the development of urban resilience.\n",
      "Platform Partners will provide us with technical skills and expertise that will lend itself to support the delivery of some of the actions contained within our strategy.\n",
      "MONITORING PROGRESS\n",
      "DELIVERING THE STRATEGY\n",
      "To ensure we deliver on our Resilient Glasgow strategy, we are developing a MONITORING and EVALUATING FRAMEWORK. This will allow us to monitor progress through data sets available from our city partners. This in turn will allow partners to appreciate the role their targets play in developing city resilience. In developing the Framework, we are taking\n",
      "account of:\n",
      "•\tOur particular resilience challenges and the goals/actions outlined in the strategy.\n",
      "•\tThe data that is routinely collected by partners in the NHS, Scottish Government,\n",
      "Glasgow City Council and elsewhere to promote a resilience culture across services and\n",
      "organisations in the city.\n",
      "•\tCommunication, learning and accountability. The indicators must be accessible and used reflectively by city partners and citizens to identify areas of progress or continuing challenge. For this reason, we are open to adding new indicators as the strategy develops and unfolds.\n",
      "•\tAccessibility of indicators. These will be made available on the Understanding\n",
      "Glasgow website, already a popular resource in the city with a wide range of resources\n",
      "(understandingglasgow.com).\n",
      "Resilience Strategy Monitoring and Evaluation Reports will be fed through our core partnership groups for information and discussion on relevant issues as they arise. These core partnership groups include the:\n",
      "•\tCommunity Planning Partnership\n",
      "• Poverty Leadership Panel\n",
      "•\tExtended Corporate Management Team\n",
      "•\tLocal Resilience Partnership\n",
      "•\tGlasgow Economic Leadership\n",
      "•\tScottish Government\n",
      "Resilient Glasgow Steering Group Sustainable Glasgow Board.\n",
      "Based on our outcomes, with ongoing dialogue with these core partnership groups, we will produce an Annual Resilience Statement which will articulate and include:\n",
      "• our yearly performance, with information on progress of the goals and actions\n",
      "• a narrative of our journey to greater resilience\n",
      "• emerging considerations that should be integrated into resilience practices\n",
      "• new collaborations or funding opportunities that could support the strategy implementation.\n",
      "Our Annual Resilience Statement will be reported to Glasgow City Council's Executive\n",
      "Committee before being published for dissemination to our partners and the wider\n",
      "Glasgow public.\n",
      "Measurement of our progress against the Monitoring and Evaluation Framework will form the basis for our Resilient Glasgow Strategy refresh in June 2018.\n",
      "Human: Tip: Make sure to answer in the correct format\u001b[0m\n",
      "\n",
      "\u001b[1m> Finished chain.\u001b[0m\n"
     ]
    },
    {
     "name": "stderr",
     "output_type": "stream",
     "text": [
      "/var/folders/dg/t8hys0qd0fb57hkr74r677yw0000gn/T/ipykernel_58508/639925175.py:4: PydanticDeprecatedSince20: The `json` method is deprecated; use `model_dump_json` instead. Deprecated in Pydantic V2.0 to be removed in V3.0. See Pydantic V2 Migration Guide at https://errors.pydantic.dev/2.11/migration/\n",
      "  result = json.loads(answer['function'].json())\n"
     ]
    }
   ],
   "source": [
    "test_10 = extract_attributes(glasgow_text)"
   ]
  },
  {
   "cell_type": "markdown",
   "metadata": {},
   "source": [
    "# TESTS"
   ]
  },
  {
   "cell_type": "code",
   "execution_count": 66,
   "metadata": {},
   "outputs": [
    {
     "data": {
      "text/plain": [
       "['Amman',\n",
       " 'Athens',\n",
       " 'Bangkok',\n",
       " 'Berkeley',\n",
       " 'Boulder',\n",
       " 'Bristol',\n",
       " 'Byblos',\n",
       " 'Dakar',\n",
       " 'El Paso',\n",
       " 'Glasgow',\n",
       " 'Greater Christchurch',\n",
       " 'Medelin',\n",
       " 'Melbourne',\n",
       " 'Mexico City',\n",
       " 'New Orleans',\n",
       " 'Norfolk',\n",
       " 'Oakland',\n",
       " 'Pittsburgh',\n",
       " 'Quito',\n",
       " 'Ramallah',\n",
       " 'Rio de Janeiro',\n",
       " 'Rotterdam',\n",
       " 'San Francisco',\n",
       " 'Santa Fe',\n",
       " 'Semarang',\n",
       " 'Surat',\n",
       " 'Thessaloniki',\n",
       " 'Toyama',\n",
       " 'Vejles',\n",
       " 'Wellington']"
      ]
     },
     "execution_count": 66,
     "metadata": {},
     "output_type": "execute_result"
    }
   ],
   "source": [
    "### TEST 1\n",
    "test_1"
   ]
  },
  {
   "cell_type": "code",
   "execution_count": 67,
   "metadata": {},
   "outputs": [
    {
     "data": {
      "text/plain": [
       "['Australia',\n",
       " 'Brazil',\n",
       " 'Colombia',\n",
       " 'Denmark',\n",
       " 'Ecuador',\n",
       " 'Greece',\n",
       " 'India',\n",
       " 'Indonesia',\n",
       " 'Japan',\n",
       " 'Jordan',\n",
       " 'Lebanon',\n",
       " 'Mexico',\n",
       " 'Netherlands',\n",
       " 'New Zealand',\n",
       " 'Palestine',\n",
       " 'Senegal',\n",
       " 'Thailand',\n",
       " 'UK',\n",
       " 'USA']"
      ]
     },
     "execution_count": 67,
     "metadata": {},
     "output_type": "execute_result"
    }
   ],
   "source": [
    "## TEST 2\n",
    "test_2"
   ]
  },
  {
   "cell_type": "code",
   "execution_count": 68,
   "metadata": {},
   "outputs": [
    {
     "data": {
      "text/plain": [
       "['and', 'in', 'of', 'the', 'to']"
      ]
     },
     "execution_count": 68,
     "metadata": {},
     "output_type": "execute_result"
    }
   ],
   "source": [
    "## TEST 3\n",
    "test_3"
   ]
  },
  {
   "cell_type": "code",
   "execution_count": 69,
   "metadata": {},
   "outputs": [
    {
     "data": {
      "text/plain": [
       "'There is no getting away from the fact that these are difficult times for Glasgow.'"
      ]
     },
     "execution_count": 69,
     "metadata": {},
     "output_type": "execute_result"
    }
   ],
   "source": [
    "## TEST 4\n",
    "test_4"
   ]
  },
  {
   "cell_type": "code",
   "execution_count": 70,
   "metadata": {},
   "outputs": [
    {
     "data": {
      "text/plain": [
       "GEAPP                            4\n",
       "RESILIENCE VALUE                 3\n",
       "Platform Partners                3\n",
       "The Rockefeller Foundation       2\n",
       "the City Resilience Framework    2\n",
       "dtype: int64"
      ]
     },
     "execution_count": 70,
     "metadata": {},
     "output_type": "execute_result"
    }
   ],
   "source": [
    "## TEST 5\n",
    "test_5"
   ]
  },
  {
   "cell_type": "code",
   "execution_count": 71,
   "metadata": {},
   "outputs": [
    {
     "data": {
      "text/plain": [
       "Rockefeller Foundation        22\n",
       "Resilience Strategy           20\n",
       "The Rockefeller Foundation    20\n",
       "NGOs                          18\n",
       "CRF                           16\n",
       "dtype: int64"
      ]
     },
     "execution_count": 71,
     "metadata": {},
     "output_type": "execute_result"
    }
   ],
   "source": [
    "## TEST 6\n",
    "test_6"
   ]
  },
  {
   "cell_type": "code",
   "execution_count": 72,
   "metadata": {},
   "outputs": [
    {
     "data": {
      "text/plain": [
       "\"Glasgow's first resilience strategy, presented by the city leader, aims to enhance the city's ability to adapt and thrive amid future challenges, building on its historical strengths and community spirit. The strategy emphasizes tackling inequalities and prioritizing the needs of disadvantaged communities, informed by extensive engagement with over 3,500 residents. It outlines a roadmap for resilience through four strategic pillars: empowering Glaswegians, unlocking place-based solutions, innovating for fair economic growth, and fostering civic participation, with specific goals and actions to be implemented over the next two years. The strategy integrates existing city initiatives and aims to create a fairer, more just Glasgow, while also addressing chronic stresses such as poverty and inequality. The city’s membership in the 100 Resilient Cities network further supports its commitment to resilience, with ongoing collaboration among various stakeholders to ensure effective implementation and continuous improvement.\""
      ]
     },
     "execution_count": 72,
     "metadata": {},
     "output_type": "execute_result"
    }
   ],
   "source": [
    "## TEST 7\n",
    "test_7"
   ]
  },
  {
   "cell_type": "code",
   "execution_count": 73,
   "metadata": {},
   "outputs": [
    {
     "data": {
      "text/plain": [
       "'key people in city government and their roles'"
      ]
     },
     "execution_count": 73,
     "metadata": {},
     "output_type": "execute_result"
    }
   ],
   "source": [
    "## TEST 8\n",
    "test_8"
   ]
  },
  {
   "cell_type": "code",
   "execution_count": 74,
   "metadata": {},
   "outputs": [
    {
     "data": {
      "text/plain": [
       "{'description': 'Relevant attributes',\n",
       " 'properties': {'people': {'description': 'person name',\n",
       "   'items': {},\n",
       "   'title': 'People',\n",
       "   'type': 'array'},\n",
       "  'roles': {'description': \"person's role in city government\",\n",
       "   'items': {},\n",
       "   'title': 'Roles',\n",
       "   'type': 'array'}},\n",
       " 'required': ['people', 'roles'],\n",
       " 'title': 'Attributes',\n",
       " 'type': 'object'}"
      ]
     },
     "execution_count": 74,
     "metadata": {},
     "output_type": "execute_result"
    }
   ],
   "source": [
    "## TEST 9\n",
    "test_9"
   ]
  },
  {
   "cell_type": "code",
   "execution_count": 75,
   "metadata": {},
   "outputs": [
    {
     "data": {
      "text/plain": [
       "{'people': [{'name': 'Cllr. Frank McAveety'}, {'name': 'Alastair Brown'}],\n",
       " 'roles': ['Council Leader', 'Chief Resilience Officer']}"
      ]
     },
     "execution_count": 75,
     "metadata": {},
     "output_type": "execute_result"
    }
   ],
   "source": [
    "## TEST 10\n",
    "test_10"
   ]
  },
  {
   "cell_type": "code",
   "execution_count": null,
   "metadata": {},
   "outputs": [],
   "source": []
  }
 ],
 "metadata": {
  "kernelspec": {
   "display_name": "Python 3 (ipykernel)",
   "language": "python",
   "name": "python3"
  },
  "language_info": {
   "codemirror_mode": {
    "name": "ipython",
    "version": 3
   },
   "file_extension": ".py",
   "mimetype": "text/x-python",
   "name": "python",
   "nbconvert_exporter": "python",
   "pygments_lexer": "ipython3",
   "version": "3.11.7"
  }
 },
 "nbformat": 4,
 "nbformat_minor": 4
}
