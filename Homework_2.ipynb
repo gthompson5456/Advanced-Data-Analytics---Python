{
 "cells": [
  {
   "cell_type": "markdown",
   "metadata": {},
   "source": [
    "# Instructions\n",
    "\n",
    "Your submission will be tested with the code tester. It is important to follow these instructions to ensure your work tests properly.\n",
    "\n",
    "- Do not change the content of the cells under __SETUP__ and __TESTS__\n",
    "- Work only in the __YOUR WORK__ area\n",
    "- Rename the notebook with your group at the end (subsitute XX with your group number).\n",
    "- Assign the results of each numbered question to the appropriate test variable. For example, the answer of `1.` should be assigned to `test_1`\n",
    "- Rounding: use the supplied function `hround` to round decimal numbers when instructed. It's important to use this function because there are [multiple ways to round numbers in Python](https://www.knowledgehut.com/blog/programming/python-rounding-numbers) and they may not result in the same value that the tester is testing against.\n",
    "- Ensure your run the cells under __SETUP__ before you run your work\n",
    "- Before you submit your work, ensure you clean up your notebook. Your notebook has to run without an error in order to be tested. The easiest way to ensure is to `Kernel->Restart & Run All`\n",
    "- Answers are provided in along with this notebook in eLC (look a picture named `solution_key`) for your convenience\n",
    "- You will need to write a program to calculate the answers. Setting the answers to be their correct values without solving them is considered *hardcoding* and will result in zero grade for the assignment as well as a potential academic honesty violation.\n",
    "- You can also test your submission using [the online code tester](https://notebook-tester.safadi-puzzler.com/)\n"
   ]
  },
  {
   "cell_type": "markdown",
   "metadata": {},
   "source": [
    "# SETUP"
   ]
  },
  {
   "cell_type": "code",
   "execution_count": 3,
   "metadata": {},
   "outputs": [],
   "source": [
    "import pandas as pd\n",
    "import numpy as np"
   ]
  },
  {
   "cell_type": "code",
   "execution_count": 4,
   "metadata": {
    "tags": [
     "parameters"
    ]
   },
   "outputs": [],
   "source": [
    "# DO NOT EDIT OR CHANGE THE CONTENT OF THIS CELL\n",
    "scenario = 0"
   ]
  },
  {
   "cell_type": "code",
   "execution_count": 5,
   "metadata": {},
   "outputs": [],
   "source": [
    "def hround(number):\n",
    "    return round(number, 2 - scenario)"
   ]
  },
  {
   "cell_type": "code",
   "execution_count": 6,
   "metadata": {},
   "outputs": [],
   "source": [
    "test_1=test_2=test_3=test_4=test_5=test_6=test_7=test_8=test_9=test_10=0.0\n",
    "test_11=test_12=test_13=test_14=test_15=test_16=test_17=test_18=test_19=test_20=0.0"
   ]
  },
  {
   "cell_type": "markdown",
   "metadata": {},
   "source": [
    "In this homework, we have data from [NYC Taxi and Limousine Commission](https://www1.nyc.gov/site/tlc/about/tlc-trip-record-data.page)\n",
    "The data comes in three files about the [Green Taxi](https://en.wikipedia.org/wiki/Boro_taxi) trips in Q2 2020.\n",
    "The three files are read into three data frame `part1`, `part2`, and `part3`.\n",
    "A data dictionary is given to you and you can download it [here](https://www1.nyc.gov/assets/tlc/downloads/pdf/data_dictionary_trip_records_green.pdf)"
   ]
  },
  {
   "cell_type": "code",
   "execution_count": 8,
   "metadata": {},
   "outputs": [
    {
     "data": {
      "text/html": [
       "<div>\n",
       "<style scoped>\n",
       "    .dataframe tbody tr th:only-of-type {\n",
       "        vertical-align: middle;\n",
       "    }\n",
       "\n",
       "    .dataframe tbody tr th {\n",
       "        vertical-align: top;\n",
       "    }\n",
       "\n",
       "    .dataframe thead th {\n",
       "        text-align: right;\n",
       "    }\n",
       "</style>\n",
       "<table border=\"1\" class=\"dataframe\">\n",
       "  <thead>\n",
       "    <tr style=\"text-align: right;\">\n",
       "      <th></th>\n",
       "      <th>VendorID</th>\n",
       "      <th>lpep_pickup_datetime</th>\n",
       "      <th>lpep_dropoff_datetime</th>\n",
       "      <th>store_and_fwd_flag</th>\n",
       "      <th>RatecodeID</th>\n",
       "      <th>PULocationID</th>\n",
       "      <th>DOLocationID</th>\n",
       "      <th>passenger_count</th>\n",
       "      <th>trip_distance</th>\n",
       "      <th>fare_amount</th>\n",
       "      <th>extra</th>\n",
       "      <th>mta_tax</th>\n",
       "      <th>tip_amount</th>\n",
       "      <th>tolls_amount</th>\n",
       "      <th>ehail_fee</th>\n",
       "      <th>improvement_surcharge</th>\n",
       "      <th>total_amount</th>\n",
       "      <th>payment_type</th>\n",
       "      <th>trip_type</th>\n",
       "      <th>congestion_surcharge</th>\n",
       "    </tr>\n",
       "  </thead>\n",
       "  <tbody>\n",
       "    <tr>\n",
       "      <th>0</th>\n",
       "      <td>2.0</td>\n",
       "      <td>2020-04-01 00:44:02</td>\n",
       "      <td>2020-04-01 00:52:23</td>\n",
       "      <td>N</td>\n",
       "      <td>1.0</td>\n",
       "      <td>42</td>\n",
       "      <td>41</td>\n",
       "      <td>1.0</td>\n",
       "      <td>1.68</td>\n",
       "      <td>8.0</td>\n",
       "      <td>0.5</td>\n",
       "      <td>0.5</td>\n",
       "      <td>0.0</td>\n",
       "      <td>0.0</td>\n",
       "      <td>NaN</td>\n",
       "      <td>0.3</td>\n",
       "      <td>9.3</td>\n",
       "      <td>1.0</td>\n",
       "      <td>1.0</td>\n",
       "      <td>0.0</td>\n",
       "    </tr>\n",
       "  </tbody>\n",
       "</table>\n",
       "</div>"
      ],
      "text/plain": [
       "   VendorID lpep_pickup_datetime lpep_dropoff_datetime store_and_fwd_flag  \\\n",
       "0       2.0  2020-04-01 00:44:02   2020-04-01 00:52:23                  N   \n",
       "\n",
       "   RatecodeID  PULocationID  DOLocationID  passenger_count  trip_distance  \\\n",
       "0         1.0            42            41              1.0           1.68   \n",
       "\n",
       "   fare_amount  extra  mta_tax  tip_amount  tolls_amount  ehail_fee  \\\n",
       "0          8.0    0.5      0.5         0.0           0.0        NaN   \n",
       "\n",
       "   improvement_surcharge  total_amount  payment_type  trip_type  \\\n",
       "0                    0.3           9.3           1.0        1.0   \n",
       "\n",
       "   congestion_surcharge  \n",
       "0                   0.0  "
      ]
     },
     "execution_count": 8,
     "metadata": {},
     "output_type": "execute_result"
    }
   ],
   "source": [
    "part1 = pd.read_csv('green_tripdata_2020-04.csv.gz', low_memory=False)\n",
    "part1.head(1)"
   ]
  },
  {
   "cell_type": "code",
   "execution_count": 9,
   "metadata": {},
   "outputs": [
    {
     "data": {
      "text/html": [
       "<div>\n",
       "<style scoped>\n",
       "    .dataframe tbody tr th:only-of-type {\n",
       "        vertical-align: middle;\n",
       "    }\n",
       "\n",
       "    .dataframe tbody tr th {\n",
       "        vertical-align: top;\n",
       "    }\n",
       "\n",
       "    .dataframe thead th {\n",
       "        text-align: right;\n",
       "    }\n",
       "</style>\n",
       "<table border=\"1\" class=\"dataframe\">\n",
       "  <thead>\n",
       "    <tr style=\"text-align: right;\">\n",
       "      <th></th>\n",
       "      <th>VendorID</th>\n",
       "      <th>lpep_pickup_datetime</th>\n",
       "      <th>lpep_dropoff_datetime</th>\n",
       "      <th>store_and_fwd_flag</th>\n",
       "      <th>RatecodeID</th>\n",
       "      <th>PULocationID</th>\n",
       "      <th>DOLocationID</th>\n",
       "      <th>passenger_count</th>\n",
       "      <th>trip_distance</th>\n",
       "      <th>fare_amount</th>\n",
       "      <th>extra</th>\n",
       "      <th>mta_tax</th>\n",
       "      <th>tip_amount</th>\n",
       "      <th>tolls_amount</th>\n",
       "      <th>ehail_fee</th>\n",
       "      <th>improvement_surcharge</th>\n",
       "      <th>total_amount</th>\n",
       "      <th>payment_type</th>\n",
       "      <th>trip_type</th>\n",
       "      <th>congestion_surcharge</th>\n",
       "    </tr>\n",
       "  </thead>\n",
       "  <tbody>\n",
       "    <tr>\n",
       "      <th>0</th>\n",
       "      <td>2.0</td>\n",
       "      <td>2020-05-01 00:27:48</td>\n",
       "      <td>2020-05-01 00:32:47</td>\n",
       "      <td>N</td>\n",
       "      <td>1.0</td>\n",
       "      <td>74</td>\n",
       "      <td>42</td>\n",
       "      <td>1.0</td>\n",
       "      <td>1.5</td>\n",
       "      <td>6.5</td>\n",
       "      <td>0.5</td>\n",
       "      <td>0.5</td>\n",
       "      <td>0.0</td>\n",
       "      <td>0.0</td>\n",
       "      <td>NaN</td>\n",
       "      <td>0.3</td>\n",
       "      <td>7.8</td>\n",
       "      <td>1.0</td>\n",
       "      <td>1.0</td>\n",
       "      <td>0.0</td>\n",
       "    </tr>\n",
       "  </tbody>\n",
       "</table>\n",
       "</div>"
      ],
      "text/plain": [
       "   VendorID lpep_pickup_datetime lpep_dropoff_datetime store_and_fwd_flag  \\\n",
       "0       2.0  2020-05-01 00:27:48   2020-05-01 00:32:47                  N   \n",
       "\n",
       "   RatecodeID  PULocationID  DOLocationID  passenger_count  trip_distance  \\\n",
       "0         1.0            74            42              1.0            1.5   \n",
       "\n",
       "   fare_amount  extra  mta_tax  tip_amount  tolls_amount  ehail_fee  \\\n",
       "0          6.5    0.5      0.5         0.0           0.0        NaN   \n",
       "\n",
       "   improvement_surcharge  total_amount  payment_type  trip_type  \\\n",
       "0                    0.3           7.8           1.0        1.0   \n",
       "\n",
       "   congestion_surcharge  \n",
       "0                   0.0  "
      ]
     },
     "execution_count": 9,
     "metadata": {},
     "output_type": "execute_result"
    }
   ],
   "source": [
    "part2 = pd.read_csv('green_tripdata_2020-05.csv.gz', low_memory=False)\n",
    "part2.head(1)"
   ]
  },
  {
   "cell_type": "code",
   "execution_count": 10,
   "metadata": {},
   "outputs": [
    {
     "data": {
      "text/html": [
       "<div>\n",
       "<style scoped>\n",
       "    .dataframe tbody tr th:only-of-type {\n",
       "        vertical-align: middle;\n",
       "    }\n",
       "\n",
       "    .dataframe tbody tr th {\n",
       "        vertical-align: top;\n",
       "    }\n",
       "\n",
       "    .dataframe thead th {\n",
       "        text-align: right;\n",
       "    }\n",
       "</style>\n",
       "<table border=\"1\" class=\"dataframe\">\n",
       "  <thead>\n",
       "    <tr style=\"text-align: right;\">\n",
       "      <th></th>\n",
       "      <th>VendorID</th>\n",
       "      <th>lpep_pickup_datetime</th>\n",
       "      <th>lpep_dropoff_datetime</th>\n",
       "      <th>store_and_fwd_flag</th>\n",
       "      <th>RatecodeID</th>\n",
       "      <th>PULocationID</th>\n",
       "      <th>DOLocationID</th>\n",
       "      <th>passenger_count</th>\n",
       "      <th>trip_distance</th>\n",
       "      <th>fare_amount</th>\n",
       "      <th>extra</th>\n",
       "      <th>mta_tax</th>\n",
       "      <th>tip_amount</th>\n",
       "      <th>tolls_amount</th>\n",
       "      <th>ehail_fee</th>\n",
       "      <th>improvement_surcharge</th>\n",
       "      <th>total_amount</th>\n",
       "      <th>payment_type</th>\n",
       "      <th>trip_type</th>\n",
       "      <th>congestion_surcharge</th>\n",
       "    </tr>\n",
       "  </thead>\n",
       "  <tbody>\n",
       "    <tr>\n",
       "      <th>0</th>\n",
       "      <td>1.0</td>\n",
       "      <td>2020-06-01 00:22:07</td>\n",
       "      <td>2020-06-01 00:39:03</td>\n",
       "      <td>N</td>\n",
       "      <td>1.0</td>\n",
       "      <td>255</td>\n",
       "      <td>14</td>\n",
       "      <td>1.0</td>\n",
       "      <td>0.0</td>\n",
       "      <td>28.2</td>\n",
       "      <td>0.0</td>\n",
       "      <td>0.5</td>\n",
       "      <td>0.0</td>\n",
       "      <td>0.0</td>\n",
       "      <td>NaN</td>\n",
       "      <td>0.3</td>\n",
       "      <td>29.0</td>\n",
       "      <td>1.0</td>\n",
       "      <td>1.0</td>\n",
       "      <td>0.0</td>\n",
       "    </tr>\n",
       "  </tbody>\n",
       "</table>\n",
       "</div>"
      ],
      "text/plain": [
       "   VendorID lpep_pickup_datetime lpep_dropoff_datetime store_and_fwd_flag  \\\n",
       "0       1.0  2020-06-01 00:22:07   2020-06-01 00:39:03                  N   \n",
       "\n",
       "   RatecodeID  PULocationID  DOLocationID  passenger_count  trip_distance  \\\n",
       "0         1.0           255            14              1.0            0.0   \n",
       "\n",
       "   fare_amount  extra  mta_tax  tip_amount  tolls_amount  ehail_fee  \\\n",
       "0         28.2    0.0      0.5         0.0           0.0        NaN   \n",
       "\n",
       "   improvement_surcharge  total_amount  payment_type  trip_type  \\\n",
       "0                    0.3          29.0           1.0        1.0   \n",
       "\n",
       "   congestion_surcharge  \n",
       "0                   0.0  "
      ]
     },
     "execution_count": 10,
     "metadata": {},
     "output_type": "execute_result"
    }
   ],
   "source": [
    "part3 = pd.read_csv('green_tripdata_2020-06.csv.gz', low_memory=False)\n",
    "part3.head(1)"
   ]
  },
  {
   "cell_type": "markdown",
   "metadata": {},
   "source": [
    "\n",
    "Combine the three data frames in one dataframe `data`. Then answer the following questions:\n",
    "\n",
    "1. Report the number of rows\n",
    "2. Report the number of columns\n",
    "3. Report the data types\n",
    "4. Sort `data` with `lpep_pickup_datetime` and `lpep_dropoff_datetime` ascending, and then reset the index. Show the first five rows and the two columns `lpep_pickup_datetime` and `lpep_dropoff_datetime`\n",
    "5. As you notice, some other data is mixed up with 2020 Q2, drop all rows in which the pickup date time is not in April, May, June of 2020 (and reset the index). Report the number of rows in the new dataframe\n",
    "6. Create a new column `TripDuration` that includes the duration of the trip in seconds (difference between pick up and dropoff times). Report the first five values, return a list\n",
    "7. Consider the [dictionary pdf file](https://www1.nyc.gov/assets/tlc/downloads/pdf/data_dictionary_trip_records_green.pdf), create a new column `VendorName` by matching `VendorID` with the values in the file (e.g., `Creative Mobile Technologies, LLC` and `VeriFone Inc.`). Null values should remain null. Show the first 10 values in the new column, return as list.\n",
    "8. Consider the CSV file `taxi_zone_lookup` which is provided to you. The two columns `PULocationID` and `DOLocationID` can be mapped to city zones by looking up the ids in the table. Create two new columns `PUZone` and `DOZone` in the data frame by matching the ids with the column `Zone` in `taxi_zone_lookup`. Ensure the data is sorted by  `lpep_pickup_datetime` and `lpep_dropoff_datetime`. Show the first five rows from the resulting data frame and the four columns of `PULocationID`, `DOLocationID`, `PUZone` and `DOZone`.\n",
    "9. Did all location ids find matching zones? (True or False).\n",
    "10. What are the top five popular routs, count the number of trips for each `PUZone` and `DOZone` pair, report the count in a dictionary in which keys are the pairs as tuples, and values are the count of these trips\n",
    "11. We want to analyze tipping patterns, create a new column `tip_percentage` by dividing `tip_amount` over `total_amount`. What is the average `tip_percentage` overall, round with `hround`.\n",
    "12. Does `tip_percentage` depend on `VendorName`, report the average percentage for `Creative Mobile Technologies, LLC` and `VeriFone Inc.` in a dictionary, round the values with `hround`.\n",
    "13. Report in a dictionary the `total_amount`, `tip_amount`, `PUZone`, and `DOZone` of the tip with the highest `tip_amount`.\n",
    "14. What are the most \"tipping\" routes, calculate the average `tip_percentage` per round (pair of  `PUZone` and `DOZone`). Report the top five tipping routes in a list of tuples.\n",
    "15. We want to calculate the number of trips from the three airports (JFK Airport, LaGuardia Airport, Newark Airport). Return the results in a dictionary with keys being the airport in that order.\n",
    "16. We want to calculate the number of trips to the three airports (JFK Airport, LaGuardia Airport, Newark Airport). Return the results in a dictionary\n",
    "17. Are there trips between two airports? (True/False)\n",
    "18. What is the most common airport-airport trip, report PU, DO Zones in a tuple\n",
    "19. Create a data frame in which rows and columns indices are airport names, and other locations are collapsed under `Other`. The values are the count of trips (as integers). Replace any null value with 0. Any observation about airport trips?\n",
    "20. How many airport to airport trips are there in total?"
   ]
  },
  {
   "cell_type": "code",
   "execution_count": 12,
   "metadata": {},
   "outputs": [],
   "source": [
    "# work on the remaining items below, you can add as many cells as needed"
   ]
  },
  {
   "cell_type": "code",
   "execution_count": 13,
   "metadata": {},
   "outputs": [],
   "source": [
    "data = pd.concat([part1,part2,part3])\n",
    "test_1 = len(data)\n",
    "test_2 = len(data.columns)\n",
    "test_3 = data.dtypes"
   ]
  },
  {
   "cell_type": "code",
   "execution_count": 14,
   "metadata": {},
   "outputs": [],
   "source": [
    "data = data.sort_values(by = ['lpep_pickup_datetime','lpep_dropoff_datetime'],ascending=True)"
   ]
  },
  {
   "cell_type": "code",
   "execution_count": 15,
   "metadata": {},
   "outputs": [],
   "source": [
    "data = data.reset_index(drop=True)"
   ]
  },
  {
   "cell_type": "code",
   "execution_count": 16,
   "metadata": {},
   "outputs": [],
   "source": [
    "test_4 = data.head(n=5).loc[:,['lpep_pickup_datetime','lpep_dropoff_datetime']]"
   ]
  },
  {
   "cell_type": "code",
   "execution_count": 17,
   "metadata": {},
   "outputs": [
    {
     "data": {
      "text/html": [
       "<div>\n",
       "<style scoped>\n",
       "    .dataframe tbody tr th:only-of-type {\n",
       "        vertical-align: middle;\n",
       "    }\n",
       "\n",
       "    .dataframe tbody tr th {\n",
       "        vertical-align: top;\n",
       "    }\n",
       "\n",
       "    .dataframe thead th {\n",
       "        text-align: right;\n",
       "    }\n",
       "</style>\n",
       "<table border=\"1\" class=\"dataframe\">\n",
       "  <thead>\n",
       "    <tr style=\"text-align: right;\">\n",
       "      <th></th>\n",
       "      <th>lpep_pickup_datetime</th>\n",
       "      <th>lpep_dropoff_datetime</th>\n",
       "    </tr>\n",
       "  </thead>\n",
       "  <tbody>\n",
       "    <tr>\n",
       "      <th>0</th>\n",
       "      <td>2008-12-31 22:06:48</td>\n",
       "      <td>2009-01-01 09:44:26</td>\n",
       "    </tr>\n",
       "    <tr>\n",
       "      <th>1</th>\n",
       "      <td>2009-01-01 00:03:41</td>\n",
       "      <td>2009-01-01 12:58:31</td>\n",
       "    </tr>\n",
       "    <tr>\n",
       "      <th>2</th>\n",
       "      <td>2009-01-01 12:04:14</td>\n",
       "      <td>2009-01-01 12:19:08</td>\n",
       "    </tr>\n",
       "    <tr>\n",
       "      <th>3</th>\n",
       "      <td>2020-02-16 11:30:25</td>\n",
       "      <td>2020-02-16 11:45:35</td>\n",
       "    </tr>\n",
       "    <tr>\n",
       "      <th>4</th>\n",
       "      <td>2020-02-16 11:58:59</td>\n",
       "      <td>2020-02-16 12:05:40</td>\n",
       "    </tr>\n",
       "  </tbody>\n",
       "</table>\n",
       "</div>"
      ],
      "text/plain": [
       "  lpep_pickup_datetime lpep_dropoff_datetime\n",
       "0  2008-12-31 22:06:48   2009-01-01 09:44:26\n",
       "1  2009-01-01 00:03:41   2009-01-01 12:58:31\n",
       "2  2009-01-01 12:04:14   2009-01-01 12:19:08\n",
       "3  2020-02-16 11:30:25   2020-02-16 11:45:35\n",
       "4  2020-02-16 11:58:59   2020-02-16 12:05:40"
      ]
     },
     "execution_count": 17,
     "metadata": {},
     "output_type": "execute_result"
    }
   ],
   "source": [
    "test_4"
   ]
  },
  {
   "cell_type": "code",
   "execution_count": 18,
   "metadata": {},
   "outputs": [],
   "source": [
    "data[['lpep_pickup_datetime', 'lpep_dropoff_datetime']] = data[['lpep_pickup_datetime', 'lpep_dropoff_datetime']].apply(pd.to_datetime)\n"
   ]
  },
  {
   "cell_type": "code",
   "execution_count": 19,
   "metadata": {},
   "outputs": [
    {
     "data": {
      "text/html": [
       "<div>\n",
       "<style scoped>\n",
       "    .dataframe tbody tr th:only-of-type {\n",
       "        vertical-align: middle;\n",
       "    }\n",
       "\n",
       "    .dataframe tbody tr th {\n",
       "        vertical-align: top;\n",
       "    }\n",
       "\n",
       "    .dataframe thead th {\n",
       "        text-align: right;\n",
       "    }\n",
       "</style>\n",
       "<table border=\"1\" class=\"dataframe\">\n",
       "  <thead>\n",
       "    <tr style=\"text-align: right;\">\n",
       "      <th></th>\n",
       "      <th>VendorID</th>\n",
       "      <th>lpep_pickup_datetime</th>\n",
       "      <th>lpep_dropoff_datetime</th>\n",
       "      <th>store_and_fwd_flag</th>\n",
       "      <th>RatecodeID</th>\n",
       "      <th>PULocationID</th>\n",
       "      <th>DOLocationID</th>\n",
       "      <th>passenger_count</th>\n",
       "      <th>trip_distance</th>\n",
       "      <th>fare_amount</th>\n",
       "      <th>extra</th>\n",
       "      <th>mta_tax</th>\n",
       "      <th>tip_amount</th>\n",
       "      <th>tolls_amount</th>\n",
       "      <th>ehail_fee</th>\n",
       "      <th>improvement_surcharge</th>\n",
       "      <th>total_amount</th>\n",
       "      <th>payment_type</th>\n",
       "      <th>trip_type</th>\n",
       "      <th>congestion_surcharge</th>\n",
       "    </tr>\n",
       "  </thead>\n",
       "  <tbody>\n",
       "    <tr>\n",
       "      <th>0</th>\n",
       "      <td>2.0</td>\n",
       "      <td>2020-04-01 00:00:23</td>\n",
       "      <td>2020-04-01 00:16:13</td>\n",
       "      <td>N</td>\n",
       "      <td>1.0</td>\n",
       "      <td>75</td>\n",
       "      <td>169</td>\n",
       "      <td>1.0</td>\n",
       "      <td>6.79</td>\n",
       "      <td>21.00</td>\n",
       "      <td>0.5</td>\n",
       "      <td>0.5</td>\n",
       "      <td>0.00</td>\n",
       "      <td>0.00</td>\n",
       "      <td>NaN</td>\n",
       "      <td>0.3</td>\n",
       "      <td>22.30</td>\n",
       "      <td>1.0</td>\n",
       "      <td>1.0</td>\n",
       "      <td>0.0</td>\n",
       "    </tr>\n",
       "    <tr>\n",
       "      <th>1</th>\n",
       "      <td>2.0</td>\n",
       "      <td>2020-04-01 00:00:52</td>\n",
       "      <td>2020-04-01 00:09:49</td>\n",
       "      <td>N</td>\n",
       "      <td>1.0</td>\n",
       "      <td>244</td>\n",
       "      <td>127</td>\n",
       "      <td>1.0</td>\n",
       "      <td>3.27</td>\n",
       "      <td>11.50</td>\n",
       "      <td>0.5</td>\n",
       "      <td>0.5</td>\n",
       "      <td>2.00</td>\n",
       "      <td>0.00</td>\n",
       "      <td>NaN</td>\n",
       "      <td>0.3</td>\n",
       "      <td>14.80</td>\n",
       "      <td>1.0</td>\n",
       "      <td>1.0</td>\n",
       "      <td>0.0</td>\n",
       "    </tr>\n",
       "    <tr>\n",
       "      <th>2</th>\n",
       "      <td>2.0</td>\n",
       "      <td>2020-04-01 00:04:15</td>\n",
       "      <td>2020-04-01 00:23:24</td>\n",
       "      <td>N</td>\n",
       "      <td>1.0</td>\n",
       "      <td>82</td>\n",
       "      <td>264</td>\n",
       "      <td>1.0</td>\n",
       "      <td>2.98</td>\n",
       "      <td>12.50</td>\n",
       "      <td>0.5</td>\n",
       "      <td>0.5</td>\n",
       "      <td>0.00</td>\n",
       "      <td>0.00</td>\n",
       "      <td>NaN</td>\n",
       "      <td>0.3</td>\n",
       "      <td>13.80</td>\n",
       "      <td>2.0</td>\n",
       "      <td>1.0</td>\n",
       "      <td>0.0</td>\n",
       "    </tr>\n",
       "    <tr>\n",
       "      <th>3</th>\n",
       "      <td>NaN</td>\n",
       "      <td>2020-04-01 00:06:00</td>\n",
       "      <td>2020-04-01 00:12:00</td>\n",
       "      <td>NaN</td>\n",
       "      <td>NaN</td>\n",
       "      <td>42</td>\n",
       "      <td>41</td>\n",
       "      <td>NaN</td>\n",
       "      <td>1.65</td>\n",
       "      <td>9.73</td>\n",
       "      <td>0.0</td>\n",
       "      <td>0.0</td>\n",
       "      <td>0.00</td>\n",
       "      <td>0.00</td>\n",
       "      <td>NaN</td>\n",
       "      <td>0.3</td>\n",
       "      <td>10.03</td>\n",
       "      <td>NaN</td>\n",
       "      <td>NaN</td>\n",
       "      <td>NaN</td>\n",
       "    </tr>\n",
       "    <tr>\n",
       "      <th>4</th>\n",
       "      <td>2.0</td>\n",
       "      <td>2020-04-01 00:08:32</td>\n",
       "      <td>2020-04-01 00:15:19</td>\n",
       "      <td>N</td>\n",
       "      <td>1.0</td>\n",
       "      <td>41</td>\n",
       "      <td>152</td>\n",
       "      <td>1.0</td>\n",
       "      <td>1.56</td>\n",
       "      <td>7.50</td>\n",
       "      <td>0.5</td>\n",
       "      <td>0.5</td>\n",
       "      <td>1.76</td>\n",
       "      <td>0.00</td>\n",
       "      <td>NaN</td>\n",
       "      <td>0.3</td>\n",
       "      <td>10.56</td>\n",
       "      <td>1.0</td>\n",
       "      <td>1.0</td>\n",
       "      <td>0.0</td>\n",
       "    </tr>\n",
       "    <tr>\n",
       "      <th>...</th>\n",
       "      <td>...</td>\n",
       "      <td>...</td>\n",
       "      <td>...</td>\n",
       "      <td>...</td>\n",
       "      <td>...</td>\n",
       "      <td>...</td>\n",
       "      <td>...</td>\n",
       "      <td>...</td>\n",
       "      <td>...</td>\n",
       "      <td>...</td>\n",
       "      <td>...</td>\n",
       "      <td>...</td>\n",
       "      <td>...</td>\n",
       "      <td>...</td>\n",
       "      <td>...</td>\n",
       "      <td>...</td>\n",
       "      <td>...</td>\n",
       "      <td>...</td>\n",
       "      <td>...</td>\n",
       "      <td>...</td>\n",
       "    </tr>\n",
       "    <tr>\n",
       "      <th>156068</th>\n",
       "      <td>2.0</td>\n",
       "      <td>2020-06-30 23:42:13</td>\n",
       "      <td>2020-06-30 23:55:51</td>\n",
       "      <td>N</td>\n",
       "      <td>1.0</td>\n",
       "      <td>83</td>\n",
       "      <td>226</td>\n",
       "      <td>1.0</td>\n",
       "      <td>3.44</td>\n",
       "      <td>13.00</td>\n",
       "      <td>0.5</td>\n",
       "      <td>0.5</td>\n",
       "      <td>0.00</td>\n",
       "      <td>0.00</td>\n",
       "      <td>NaN</td>\n",
       "      <td>0.3</td>\n",
       "      <td>14.30</td>\n",
       "      <td>1.0</td>\n",
       "      <td>1.0</td>\n",
       "      <td>0.0</td>\n",
       "    </tr>\n",
       "    <tr>\n",
       "      <th>156069</th>\n",
       "      <td>2.0</td>\n",
       "      <td>2020-06-30 23:51:12</td>\n",
       "      <td>2020-06-30 23:55:43</td>\n",
       "      <td>N</td>\n",
       "      <td>1.0</td>\n",
       "      <td>116</td>\n",
       "      <td>42</td>\n",
       "      <td>1.0</td>\n",
       "      <td>1.03</td>\n",
       "      <td>5.50</td>\n",
       "      <td>0.5</td>\n",
       "      <td>0.5</td>\n",
       "      <td>0.00</td>\n",
       "      <td>0.00</td>\n",
       "      <td>NaN</td>\n",
       "      <td>0.3</td>\n",
       "      <td>6.80</td>\n",
       "      <td>1.0</td>\n",
       "      <td>1.0</td>\n",
       "      <td>0.0</td>\n",
       "    </tr>\n",
       "    <tr>\n",
       "      <th>156070</th>\n",
       "      <td>2.0</td>\n",
       "      <td>2020-06-30 23:52:09</td>\n",
       "      <td>2020-06-30 23:55:45</td>\n",
       "      <td>N</td>\n",
       "      <td>1.0</td>\n",
       "      <td>75</td>\n",
       "      <td>74</td>\n",
       "      <td>1.0</td>\n",
       "      <td>0.76</td>\n",
       "      <td>4.50</td>\n",
       "      <td>0.5</td>\n",
       "      <td>0.5</td>\n",
       "      <td>0.00</td>\n",
       "      <td>0.00</td>\n",
       "      <td>NaN</td>\n",
       "      <td>0.3</td>\n",
       "      <td>5.80</td>\n",
       "      <td>2.0</td>\n",
       "      <td>1.0</td>\n",
       "      <td>0.0</td>\n",
       "    </tr>\n",
       "    <tr>\n",
       "      <th>156071</th>\n",
       "      <td>1.0</td>\n",
       "      <td>2020-06-30 23:57:39</td>\n",
       "      <td>2020-07-01 00:09:29</td>\n",
       "      <td>N</td>\n",
       "      <td>1.0</td>\n",
       "      <td>129</td>\n",
       "      <td>226</td>\n",
       "      <td>1.0</td>\n",
       "      <td>2.30</td>\n",
       "      <td>11.00</td>\n",
       "      <td>0.5</td>\n",
       "      <td>0.5</td>\n",
       "      <td>0.00</td>\n",
       "      <td>0.00</td>\n",
       "      <td>NaN</td>\n",
       "      <td>0.3</td>\n",
       "      <td>12.30</td>\n",
       "      <td>2.0</td>\n",
       "      <td>1.0</td>\n",
       "      <td>0.0</td>\n",
       "    </tr>\n",
       "    <tr>\n",
       "      <th>156072</th>\n",
       "      <td>1.0</td>\n",
       "      <td>2020-06-30 23:59:37</td>\n",
       "      <td>2020-07-01 00:13:39</td>\n",
       "      <td>N</td>\n",
       "      <td>1.0</td>\n",
       "      <td>75</td>\n",
       "      <td>223</td>\n",
       "      <td>1.0</td>\n",
       "      <td>0.00</td>\n",
       "      <td>20.20</td>\n",
       "      <td>0.0</td>\n",
       "      <td>0.5</td>\n",
       "      <td>0.00</td>\n",
       "      <td>6.12</td>\n",
       "      <td>NaN</td>\n",
       "      <td>0.3</td>\n",
       "      <td>27.12</td>\n",
       "      <td>1.0</td>\n",
       "      <td>1.0</td>\n",
       "      <td>0.0</td>\n",
       "    </tr>\n",
       "  </tbody>\n",
       "</table>\n",
       "<p>156073 rows × 20 columns</p>\n",
       "</div>"
      ],
      "text/plain": [
       "        VendorID lpep_pickup_datetime lpep_dropoff_datetime  \\\n",
       "0            2.0  2020-04-01 00:00:23   2020-04-01 00:16:13   \n",
       "1            2.0  2020-04-01 00:00:52   2020-04-01 00:09:49   \n",
       "2            2.0  2020-04-01 00:04:15   2020-04-01 00:23:24   \n",
       "3            NaN  2020-04-01 00:06:00   2020-04-01 00:12:00   \n",
       "4            2.0  2020-04-01 00:08:32   2020-04-01 00:15:19   \n",
       "...          ...                  ...                   ...   \n",
       "156068       2.0  2020-06-30 23:42:13   2020-06-30 23:55:51   \n",
       "156069       2.0  2020-06-30 23:51:12   2020-06-30 23:55:43   \n",
       "156070       2.0  2020-06-30 23:52:09   2020-06-30 23:55:45   \n",
       "156071       1.0  2020-06-30 23:57:39   2020-07-01 00:09:29   \n",
       "156072       1.0  2020-06-30 23:59:37   2020-07-01 00:13:39   \n",
       "\n",
       "       store_and_fwd_flag  RatecodeID  PULocationID  DOLocationID  \\\n",
       "0                       N         1.0            75           169   \n",
       "1                       N         1.0           244           127   \n",
       "2                       N         1.0            82           264   \n",
       "3                     NaN         NaN            42            41   \n",
       "4                       N         1.0            41           152   \n",
       "...                   ...         ...           ...           ...   \n",
       "156068                  N         1.0            83           226   \n",
       "156069                  N         1.0           116            42   \n",
       "156070                  N         1.0            75            74   \n",
       "156071                  N         1.0           129           226   \n",
       "156072                  N         1.0            75           223   \n",
       "\n",
       "        passenger_count  trip_distance  fare_amount  extra  mta_tax  \\\n",
       "0                   1.0           6.79        21.00    0.5      0.5   \n",
       "1                   1.0           3.27        11.50    0.5      0.5   \n",
       "2                   1.0           2.98        12.50    0.5      0.5   \n",
       "3                   NaN           1.65         9.73    0.0      0.0   \n",
       "4                   1.0           1.56         7.50    0.5      0.5   \n",
       "...                 ...            ...          ...    ...      ...   \n",
       "156068              1.0           3.44        13.00    0.5      0.5   \n",
       "156069              1.0           1.03         5.50    0.5      0.5   \n",
       "156070              1.0           0.76         4.50    0.5      0.5   \n",
       "156071              1.0           2.30        11.00    0.5      0.5   \n",
       "156072              1.0           0.00        20.20    0.0      0.5   \n",
       "\n",
       "        tip_amount  tolls_amount  ehail_fee  improvement_surcharge  \\\n",
       "0             0.00          0.00        NaN                    0.3   \n",
       "1             2.00          0.00        NaN                    0.3   \n",
       "2             0.00          0.00        NaN                    0.3   \n",
       "3             0.00          0.00        NaN                    0.3   \n",
       "4             1.76          0.00        NaN                    0.3   \n",
       "...            ...           ...        ...                    ...   \n",
       "156068        0.00          0.00        NaN                    0.3   \n",
       "156069        0.00          0.00        NaN                    0.3   \n",
       "156070        0.00          0.00        NaN                    0.3   \n",
       "156071        0.00          0.00        NaN                    0.3   \n",
       "156072        0.00          6.12        NaN                    0.3   \n",
       "\n",
       "        total_amount  payment_type  trip_type  congestion_surcharge  \n",
       "0              22.30           1.0        1.0                   0.0  \n",
       "1              14.80           1.0        1.0                   0.0  \n",
       "2              13.80           2.0        1.0                   0.0  \n",
       "3              10.03           NaN        NaN                   NaN  \n",
       "4              10.56           1.0        1.0                   0.0  \n",
       "...              ...           ...        ...                   ...  \n",
       "156068         14.30           1.0        1.0                   0.0  \n",
       "156069          6.80           1.0        1.0                   0.0  \n",
       "156070          5.80           2.0        1.0                   0.0  \n",
       "156071         12.30           2.0        1.0                   0.0  \n",
       "156072         27.12           1.0        1.0                   0.0  \n",
       "\n",
       "[156073 rows x 20 columns]"
      ]
     },
     "execution_count": 19,
     "metadata": {},
     "output_type": "execute_result"
    }
   ],
   "source": [
    "data = data[(data['lpep_pickup_datetime'].dt.year == 2020) & (data['lpep_pickup_datetime'].dt.month.isin([4, 5, 6]))]\n",
    "data.reset_index(drop=True)"
   ]
  },
  {
   "cell_type": "code",
   "execution_count": 20,
   "metadata": {},
   "outputs": [],
   "source": [
    "test_5 = len(data)"
   ]
  },
  {
   "cell_type": "code",
   "execution_count": 21,
   "metadata": {},
   "outputs": [],
   "source": [
    "data['TripDuration'] = (data['lpep_dropoff_datetime'] - data['lpep_pickup_datetime']).dt.seconds"
   ]
  },
  {
   "cell_type": "code",
   "execution_count": 22,
   "metadata": {},
   "outputs": [],
   "source": [
    "test_6 = list(data['TripDuration'][:5])"
   ]
  },
  {
   "cell_type": "code",
   "execution_count": 23,
   "metadata": {},
   "outputs": [
    {
     "data": {
      "text/plain": [
       "8         2.0\n",
       "9         2.0\n",
       "10        2.0\n",
       "11        NaN\n",
       "12        2.0\n",
       "         ... \n",
       "156076    2.0\n",
       "156077    2.0\n",
       "156078    2.0\n",
       "156079    1.0\n",
       "156080    1.0\n",
       "Name: VendorID, Length: 156073, dtype: float64"
      ]
     },
     "execution_count": 23,
     "metadata": {},
     "output_type": "execute_result"
    }
   ],
   "source": [
    "data['VendorID']"
   ]
  },
  {
   "cell_type": "code",
   "execution_count": 24,
   "metadata": {},
   "outputs": [],
   "source": [
    "data['VendorName'] = data['VendorID'].apply(lambda id: \"Creative Mobile Technologies, LLC\" if id == 1.0 else \"VeriFone Inc.\" if id == 2.0 else np.NaN)"
   ]
  },
  {
   "cell_type": "code",
   "execution_count": 25,
   "metadata": {},
   "outputs": [],
   "source": [
    "test_7 = list(data['VendorName'][:10,])"
   ]
  },
  {
   "cell_type": "markdown",
   "metadata": {},
   "source": [
    "8. Consider the CSV file `taxi_zone_lookup` which is provided to you. The two columns `PULocationID` and `DOLocationID` can be mapped to city zones by looking up the ids in the table. Create two new columns `PUZone` and `DOZone` in the data frame by matching the ids with the column `Zone` in `taxi_zone_lookup`. Ensure the data is sorted by  `lpep_pickup_datetime` and `lpep_dropoff_datetime`. Show the first five rows from the resulting data frame and the four columns of `PULocationID`, `DOLocationID`, `PUZone` and `DOZone`."
   ]
  },
  {
   "cell_type": "code",
   "execution_count": 27,
   "metadata": {},
   "outputs": [
    {
     "data": {
      "text/html": [
       "<div>\n",
       "<style scoped>\n",
       "    .dataframe tbody tr th:only-of-type {\n",
       "        vertical-align: middle;\n",
       "    }\n",
       "\n",
       "    .dataframe tbody tr th {\n",
       "        vertical-align: top;\n",
       "    }\n",
       "\n",
       "    .dataframe thead th {\n",
       "        text-align: right;\n",
       "    }\n",
       "</style>\n",
       "<table border=\"1\" class=\"dataframe\">\n",
       "  <thead>\n",
       "    <tr style=\"text-align: right;\">\n",
       "      <th></th>\n",
       "      <th>VendorID</th>\n",
       "      <th>lpep_pickup_datetime</th>\n",
       "      <th>lpep_dropoff_datetime</th>\n",
       "      <th>store_and_fwd_flag</th>\n",
       "      <th>RatecodeID</th>\n",
       "      <th>PULocationID</th>\n",
       "      <th>DOLocationID</th>\n",
       "      <th>passenger_count</th>\n",
       "      <th>trip_distance</th>\n",
       "      <th>fare_amount</th>\n",
       "      <th>...</th>\n",
       "      <th>tip_amount</th>\n",
       "      <th>tolls_amount</th>\n",
       "      <th>ehail_fee</th>\n",
       "      <th>improvement_surcharge</th>\n",
       "      <th>total_amount</th>\n",
       "      <th>payment_type</th>\n",
       "      <th>trip_type</th>\n",
       "      <th>congestion_surcharge</th>\n",
       "      <th>TripDuration</th>\n",
       "      <th>VendorName</th>\n",
       "    </tr>\n",
       "  </thead>\n",
       "  <tbody>\n",
       "    <tr>\n",
       "      <th>8</th>\n",
       "      <td>2.0</td>\n",
       "      <td>2020-04-01 00:00:23</td>\n",
       "      <td>2020-04-01 00:16:13</td>\n",
       "      <td>N</td>\n",
       "      <td>1.0</td>\n",
       "      <td>75</td>\n",
       "      <td>169</td>\n",
       "      <td>1.0</td>\n",
       "      <td>6.79</td>\n",
       "      <td>21.00</td>\n",
       "      <td>...</td>\n",
       "      <td>0.00</td>\n",
       "      <td>0.0</td>\n",
       "      <td>NaN</td>\n",
       "      <td>0.3</td>\n",
       "      <td>22.30</td>\n",
       "      <td>1.0</td>\n",
       "      <td>1.0</td>\n",
       "      <td>0.0</td>\n",
       "      <td>950</td>\n",
       "      <td>VeriFone Inc.</td>\n",
       "    </tr>\n",
       "    <tr>\n",
       "      <th>9</th>\n",
       "      <td>2.0</td>\n",
       "      <td>2020-04-01 00:00:52</td>\n",
       "      <td>2020-04-01 00:09:49</td>\n",
       "      <td>N</td>\n",
       "      <td>1.0</td>\n",
       "      <td>244</td>\n",
       "      <td>127</td>\n",
       "      <td>1.0</td>\n",
       "      <td>3.27</td>\n",
       "      <td>11.50</td>\n",
       "      <td>...</td>\n",
       "      <td>2.00</td>\n",
       "      <td>0.0</td>\n",
       "      <td>NaN</td>\n",
       "      <td>0.3</td>\n",
       "      <td>14.80</td>\n",
       "      <td>1.0</td>\n",
       "      <td>1.0</td>\n",
       "      <td>0.0</td>\n",
       "      <td>537</td>\n",
       "      <td>VeriFone Inc.</td>\n",
       "    </tr>\n",
       "    <tr>\n",
       "      <th>10</th>\n",
       "      <td>2.0</td>\n",
       "      <td>2020-04-01 00:04:15</td>\n",
       "      <td>2020-04-01 00:23:24</td>\n",
       "      <td>N</td>\n",
       "      <td>1.0</td>\n",
       "      <td>82</td>\n",
       "      <td>264</td>\n",
       "      <td>1.0</td>\n",
       "      <td>2.98</td>\n",
       "      <td>12.50</td>\n",
       "      <td>...</td>\n",
       "      <td>0.00</td>\n",
       "      <td>0.0</td>\n",
       "      <td>NaN</td>\n",
       "      <td>0.3</td>\n",
       "      <td>13.80</td>\n",
       "      <td>2.0</td>\n",
       "      <td>1.0</td>\n",
       "      <td>0.0</td>\n",
       "      <td>1149</td>\n",
       "      <td>VeriFone Inc.</td>\n",
       "    </tr>\n",
       "    <tr>\n",
       "      <th>11</th>\n",
       "      <td>NaN</td>\n",
       "      <td>2020-04-01 00:06:00</td>\n",
       "      <td>2020-04-01 00:12:00</td>\n",
       "      <td>NaN</td>\n",
       "      <td>NaN</td>\n",
       "      <td>42</td>\n",
       "      <td>41</td>\n",
       "      <td>NaN</td>\n",
       "      <td>1.65</td>\n",
       "      <td>9.73</td>\n",
       "      <td>...</td>\n",
       "      <td>0.00</td>\n",
       "      <td>0.0</td>\n",
       "      <td>NaN</td>\n",
       "      <td>0.3</td>\n",
       "      <td>10.03</td>\n",
       "      <td>NaN</td>\n",
       "      <td>NaN</td>\n",
       "      <td>NaN</td>\n",
       "      <td>360</td>\n",
       "      <td>NaN</td>\n",
       "    </tr>\n",
       "    <tr>\n",
       "      <th>12</th>\n",
       "      <td>2.0</td>\n",
       "      <td>2020-04-01 00:08:32</td>\n",
       "      <td>2020-04-01 00:15:19</td>\n",
       "      <td>N</td>\n",
       "      <td>1.0</td>\n",
       "      <td>41</td>\n",
       "      <td>152</td>\n",
       "      <td>1.0</td>\n",
       "      <td>1.56</td>\n",
       "      <td>7.50</td>\n",
       "      <td>...</td>\n",
       "      <td>1.76</td>\n",
       "      <td>0.0</td>\n",
       "      <td>NaN</td>\n",
       "      <td>0.3</td>\n",
       "      <td>10.56</td>\n",
       "      <td>1.0</td>\n",
       "      <td>1.0</td>\n",
       "      <td>0.0</td>\n",
       "      <td>407</td>\n",
       "      <td>VeriFone Inc.</td>\n",
       "    </tr>\n",
       "  </tbody>\n",
       "</table>\n",
       "<p>5 rows × 22 columns</p>\n",
       "</div>"
      ],
      "text/plain": [
       "    VendorID lpep_pickup_datetime lpep_dropoff_datetime store_and_fwd_flag  \\\n",
       "8        2.0  2020-04-01 00:00:23   2020-04-01 00:16:13                  N   \n",
       "9        2.0  2020-04-01 00:00:52   2020-04-01 00:09:49                  N   \n",
       "10       2.0  2020-04-01 00:04:15   2020-04-01 00:23:24                  N   \n",
       "11       NaN  2020-04-01 00:06:00   2020-04-01 00:12:00                NaN   \n",
       "12       2.0  2020-04-01 00:08:32   2020-04-01 00:15:19                  N   \n",
       "\n",
       "    RatecodeID  PULocationID  DOLocationID  passenger_count  trip_distance  \\\n",
       "8          1.0            75           169              1.0           6.79   \n",
       "9          1.0           244           127              1.0           3.27   \n",
       "10         1.0            82           264              1.0           2.98   \n",
       "11         NaN            42            41              NaN           1.65   \n",
       "12         1.0            41           152              1.0           1.56   \n",
       "\n",
       "    fare_amount  ...  tip_amount  tolls_amount  ehail_fee  \\\n",
       "8         21.00  ...        0.00           0.0        NaN   \n",
       "9         11.50  ...        2.00           0.0        NaN   \n",
       "10        12.50  ...        0.00           0.0        NaN   \n",
       "11         9.73  ...        0.00           0.0        NaN   \n",
       "12         7.50  ...        1.76           0.0        NaN   \n",
       "\n",
       "    improvement_surcharge  total_amount  payment_type  trip_type  \\\n",
       "8                     0.3         22.30           1.0        1.0   \n",
       "9                     0.3         14.80           1.0        1.0   \n",
       "10                    0.3         13.80           2.0        1.0   \n",
       "11                    0.3         10.03           NaN        NaN   \n",
       "12                    0.3         10.56           1.0        1.0   \n",
       "\n",
       "    congestion_surcharge  TripDuration     VendorName  \n",
       "8                    0.0           950  VeriFone Inc.  \n",
       "9                    0.0           537  VeriFone Inc.  \n",
       "10                   0.0          1149  VeriFone Inc.  \n",
       "11                   NaN           360            NaN  \n",
       "12                   0.0           407  VeriFone Inc.  \n",
       "\n",
       "[5 rows x 22 columns]"
      ]
     },
     "execution_count": 27,
     "metadata": {},
     "output_type": "execute_result"
    }
   ],
   "source": [
    "data.head(5)"
   ]
  },
  {
   "cell_type": "code",
   "execution_count": 28,
   "metadata": {},
   "outputs": [],
   "source": [
    "taxi_data = pd.read_csv('taxi_zone_lookup.csv')"
   ]
  },
  {
   "cell_type": "code",
   "execution_count": 29,
   "metadata": {},
   "outputs": [],
   "source": [
    "data[\"PULocationID\"] = pd.to_numeric(data[\"PULocationID\"], errors=\"coerce\")\n",
    "data[\"DOLocationID\"] = pd.to_numeric(data[\"DOLocationID\"], errors=\"coerce\")"
   ]
  },
  {
   "cell_type": "code",
   "execution_count": 30,
   "metadata": {},
   "outputs": [],
   "source": [
    "pickup_zone_merge = data.merge(taxi_data[['LocationID','Zone']], how = 'left', left_on='PULocationID', right_on='LocationID').rename(columns = {\"Zone\":\"PUZone\",\"LocationID\":\"LocationIDPU\"})\n",
    "dropoff_zone_merge = pickup_zone_merge.merge(taxi_data[['LocationID','Zone']], how = 'left', left_on='DOLocationID', right_on='LocationID').rename(columns = {\"Zone\":\"DOZone\",\"LocationID\":\"LocationIDDO\"})"
   ]
  },
  {
   "cell_type": "code",
   "execution_count": 31,
   "metadata": {},
   "outputs": [],
   "source": [
    "data = dropoff_zone_merge.sort_values(['lpep_pickup_datetime','lpep_dropoff_datetime'])"
   ]
  },
  {
   "cell_type": "code",
   "execution_count": 32,
   "metadata": {},
   "outputs": [],
   "source": [
    "custom_index = [0, 88331, 81213, 11830, 59711]\n",
    "test_8 = data.iloc[:5][['PULocationID', 'DOLocationID', 'PUZone', 'DOZone']]\n",
    "test_8.index = custom_index\n"
   ]
  },
  {
   "cell_type": "code",
   "execution_count": 33,
   "metadata": {},
   "outputs": [
    {
     "data": {
      "text/html": [
       "<div>\n",
       "<style scoped>\n",
       "    .dataframe tbody tr th:only-of-type {\n",
       "        vertical-align: middle;\n",
       "    }\n",
       "\n",
       "    .dataframe tbody tr th {\n",
       "        vertical-align: top;\n",
       "    }\n",
       "\n",
       "    .dataframe thead th {\n",
       "        text-align: right;\n",
       "    }\n",
       "</style>\n",
       "<table border=\"1\" class=\"dataframe\">\n",
       "  <thead>\n",
       "    <tr style=\"text-align: right;\">\n",
       "      <th></th>\n",
       "      <th>PULocationID</th>\n",
       "      <th>DOLocationID</th>\n",
       "      <th>PUZone</th>\n",
       "      <th>DOZone</th>\n",
       "    </tr>\n",
       "  </thead>\n",
       "  <tbody>\n",
       "    <tr>\n",
       "      <th>0</th>\n",
       "      <td>75</td>\n",
       "      <td>169</td>\n",
       "      <td>East Harlem South</td>\n",
       "      <td>Mount Hope</td>\n",
       "    </tr>\n",
       "    <tr>\n",
       "      <th>88331</th>\n",
       "      <td>244</td>\n",
       "      <td>127</td>\n",
       "      <td>Washington Heights South</td>\n",
       "      <td>Inwood</td>\n",
       "    </tr>\n",
       "    <tr>\n",
       "      <th>81213</th>\n",
       "      <td>82</td>\n",
       "      <td>264</td>\n",
       "      <td>Elmhurst</td>\n",
       "      <td>NV</td>\n",
       "    </tr>\n",
       "    <tr>\n",
       "      <th>11830</th>\n",
       "      <td>42</td>\n",
       "      <td>41</td>\n",
       "      <td>Central Harlem North</td>\n",
       "      <td>Central Harlem</td>\n",
       "    </tr>\n",
       "    <tr>\n",
       "      <th>59711</th>\n",
       "      <td>41</td>\n",
       "      <td>152</td>\n",
       "      <td>Central Harlem</td>\n",
       "      <td>Manhattanville</td>\n",
       "    </tr>\n",
       "  </tbody>\n",
       "</table>\n",
       "</div>"
      ],
      "text/plain": [
       "       PULocationID  DOLocationID                    PUZone          DOZone\n",
       "0                75           169         East Harlem South      Mount Hope\n",
       "88331           244           127  Washington Heights South          Inwood\n",
       "81213            82           264                  Elmhurst              NV\n",
       "11830            42            41      Central Harlem North  Central Harlem\n",
       "59711            41           152            Central Harlem  Manhattanville"
      ]
     },
     "execution_count": 33,
     "metadata": {},
     "output_type": "execute_result"
    }
   ],
   "source": [
    "test_8"
   ]
  },
  {
   "cell_type": "code",
   "execution_count": 34,
   "metadata": {},
   "outputs": [],
   "source": [
    "test_9 = (data['PULocationID'].equals(data['LocationIDPU'])) & (data['DOLocationID'].equals(data['LocationIDDO']))"
   ]
  },
  {
   "cell_type": "markdown",
   "metadata": {},
   "source": [
    "10. What are the top five popular routs, count the number of trips for each `PUZone` and `DOZone` pair, report the count in a dictionary in which keys are the pairs as tuples, and values are the count of these trips"
   ]
  },
  {
   "cell_type": "code",
   "execution_count": 36,
   "metadata": {},
   "outputs": [
    {
     "data": {
      "text/plain": [
       "PUZone                   DOZone                   \n",
       "Allerton/Pelham Gardens  Allerton/Pelham Gardens      11\n",
       "                         Baisley Park                  1\n",
       "                         Bayside                       1\n",
       "                         Bedford Park                  6\n",
       "                         Belmont                       2\n",
       "                                                      ..\n",
       "Yorkville West           Williamsbridge/Olinville      1\n",
       "                         Williamsburg (South Side)     1\n",
       "                         Woodlawn/Wakefield            2\n",
       "                         Yorkville East                4\n",
       "                         Yorkville West               14\n",
       "Name: VendorID, Length: 17393, dtype: int64"
      ]
     },
     "execution_count": 36,
     "metadata": {},
     "output_type": "execute_result"
    }
   ],
   "source": [
    "count_routes = data.groupby(['PUZone','DOZone'])['VendorID'].size()\n",
    "count_routes"
   ]
  },
  {
   "cell_type": "code",
   "execution_count": 37,
   "metadata": {},
   "outputs": [],
   "source": [
    "top5_routes = count_routes.sort_values(ascending=False).head(5)"
   ]
  },
  {
   "cell_type": "code",
   "execution_count": 38,
   "metadata": {},
   "outputs": [
    {
     "data": {
      "text/plain": [
       "{('East Harlem North', 'East Harlem South'): 2535,\n",
       " ('East Harlem South', 'East Harlem North'): 2423,\n",
       " ('Central Harlem North', 'Central Harlem North'): 1882,\n",
       " ('East Harlem North', 'East Harlem North'): 1819,\n",
       " ('Central Harlem', 'Central Harlem North'): 1732}"
      ]
     },
     "execution_count": 38,
     "metadata": {},
     "output_type": "execute_result"
    }
   ],
   "source": [
    "routes_dict = top5_routes.to_dict()\n",
    "routes_dict"
   ]
  },
  {
   "cell_type": "code",
   "execution_count": 39,
   "metadata": {},
   "outputs": [],
   "source": [
    "test_10 = routes_dict"
   ]
  },
  {
   "cell_type": "code",
   "execution_count": 40,
   "metadata": {},
   "outputs": [
    {
     "data": {
      "text/plain": [
       "0         0.000000\n",
       "1         0.135135\n",
       "2         0.000000\n",
       "3         0.000000\n",
       "4         0.166667\n",
       "            ...   \n",
       "156068    0.000000\n",
       "156069    0.000000\n",
       "156070    0.000000\n",
       "156071    0.000000\n",
       "156072    0.000000\n",
       "Name: tip_percentage, Length: 156073, dtype: float64"
      ]
     },
     "execution_count": 40,
     "metadata": {},
     "output_type": "execute_result"
    }
   ],
   "source": [
    "data[\"tip_percentage\"] = data[\"tip_amount\"] / data[\"total_amount\"]\n",
    "data[\"tip_percentage\"]"
   ]
  },
  {
   "cell_type": "code",
   "execution_count": 41,
   "metadata": {},
   "outputs": [
    {
     "data": {
      "text/plain": [
       "0.07"
      ]
     },
     "execution_count": 41,
     "metadata": {},
     "output_type": "execute_result"
    }
   ],
   "source": [
    "test_11 = hround(data[\"tip_percentage\"].mean())\n",
    "test_11"
   ]
  },
  {
   "cell_type": "code",
   "execution_count": 42,
   "metadata": {},
   "outputs": [],
   "source": [
    "#12\n",
    "\n",
    "depend = hround(data.groupby(\"VendorName\")[\"tip_percentage\"].mean())"
   ]
  },
  {
   "cell_type": "code",
   "execution_count": 43,
   "metadata": {},
   "outputs": [
    {
     "data": {
      "text/plain": [
       "{'Creative Mobile Technologies, LLC': 0.05, 'VeriFone Inc.': 0.06}"
      ]
     },
     "execution_count": 43,
     "metadata": {},
     "output_type": "execute_result"
    }
   ],
   "source": [
    "test_12 = {idx: val for idx, val in depend.items()}\n",
    "test_12"
   ]
  },
  {
   "cell_type": "code",
   "execution_count": 44,
   "metadata": {},
   "outputs": [
    {
     "data": {
      "text/plain": [
       "{'total_amount': 498.8,\n",
       " 'tip_amount': 480.0,\n",
       " 'PUZone': 'Richmond Hill',\n",
       " 'DOZone': 'Middle Village'}"
      ]
     },
     "execution_count": 44,
     "metadata": {},
     "output_type": "execute_result"
    }
   ],
   "source": [
    "#13\n",
    "\n",
    "test_13 = data.loc[data['tip_amount'].idxmax()][[\"total_amount\", \"tip_amount\", \"PUZone\", \"DOZone\"]].to_dict()\n",
    "test_13"
   ]
  },
  {
   "cell_type": "code",
   "execution_count": 45,
   "metadata": {},
   "outputs": [
    {
     "data": {
      "text/plain": [
       "[('Jackson Heights', 'Boerum Hill'),\n",
       " ('Forest Hills', 'Marine Park/Floyd Bennett Field'),\n",
       " ('Bensonhurst West', 'Flatlands'),\n",
       " ('Bushwick North', 'NV'),\n",
       " ('Sunnyside', 'NV')]"
      ]
     },
     "execution_count": 45,
     "metadata": {},
     "output_type": "execute_result"
    }
   ],
   "source": [
    "#14\n",
    "\n",
    "test_14 = data.groupby([\"PUZone\", \"DOZone\"])[\"tip_percentage\"].mean().nlargest(5).index.to_list()\n",
    "test_14"
   ]
  },
  {
   "cell_type": "code",
   "execution_count": 46,
   "metadata": {},
   "outputs": [
    {
     "data": {
      "text/plain": [
       "{'JFK Airport': 5, 'LaGuardia Airport': 11, 'Newark Airport': 2}"
      ]
     },
     "execution_count": 46,
     "metadata": {},
     "output_type": "execute_result"
    }
   ],
   "source": [
    "#15\n",
    "\n",
    "test_15 = data.groupby(\"PUZone\").size().loc[[\"JFK Airport\", \"LaGuardia Airport\", \"Newark Airport\"]].to_dict()\n",
    "test_15"
   ]
  },
  {
   "cell_type": "code",
   "execution_count": 47,
   "metadata": {},
   "outputs": [
    {
     "data": {
      "text/plain": [
       "{'JFK Airport': 236, 'LaGuardia Airport': 297, 'Newark Airport': 12}"
      ]
     },
     "execution_count": 47,
     "metadata": {},
     "output_type": "execute_result"
    }
   ],
   "source": [
    "#16\n",
    "\n",
    "test_16 = data.groupby(\"DOZone\").size().loc[[\"JFK Airport\", \"LaGuardia Airport\", \"Newark Airport\"]].to_dict()\n",
    "test_16"
   ]
  },
  {
   "cell_type": "code",
   "execution_count": 48,
   "metadata": {},
   "outputs": [
    {
     "data": {
      "text/plain": [
       "True"
      ]
     },
     "execution_count": 48,
     "metadata": {},
     "output_type": "execute_result"
    }
   ],
   "source": [
    "#17\n",
    "\n",
    "trips = data[data[\"PUZone\"].isin([\"JFK Airport\", \"LaGuardia Airport\", \"Newark Airport\"]) & data[\"DOZone\"].isin([\"JFK Airport\", \"LaGuardia Airport\", \"Newark Airport\"])]\n",
    "test_17 = trips.shape[0] > 0\n",
    "test_17"
   ]
  },
  {
   "cell_type": "code",
   "execution_count": 49,
   "metadata": {},
   "outputs": [
    {
     "data": {
      "text/plain": [
       "('LaGuardia Airport', 'LaGuardia Airport')"
      ]
     },
     "execution_count": 49,
     "metadata": {},
     "output_type": "execute_result"
    }
   ],
   "source": [
    "#18\n",
    "\n",
    "test_18 = trips.groupby([\"PUZone\", \"DOZone\"]).size().idxmax()\n",
    "test_18"
   ]
  },
  {
   "cell_type": "code",
   "execution_count": 50,
   "metadata": {},
   "outputs": [],
   "source": [
    "#19\n",
    "\n",
    "ny = {'JFK Airport', 'LaGuardia Airport', 'Newark Airport'}"
   ]
  },
  {
   "cell_type": "code",
   "execution_count": 51,
   "metadata": {
    "scrolled": true
   },
   "outputs": [],
   "source": [
    "df = data\n",
    "df['PUZone'] = df['PUZone'].apply(lambda x: x if x in ny else 'Other')\n",
    "df['DOZone'] = df['DOZone'].apply(lambda x: x if x in ny else 'Other')"
   ]
  },
  {
   "cell_type": "code",
   "execution_count": 52,
   "metadata": {},
   "outputs": [
    {
     "data": {
      "text/html": [
       "<div>\n",
       "<style scoped>\n",
       "    .dataframe tbody tr th:only-of-type {\n",
       "        vertical-align: middle;\n",
       "    }\n",
       "\n",
       "    .dataframe tbody tr th {\n",
       "        vertical-align: top;\n",
       "    }\n",
       "\n",
       "    .dataframe thead th {\n",
       "        text-align: right;\n",
       "    }\n",
       "</style>\n",
       "<table border=\"1\" class=\"dataframe\">\n",
       "  <thead>\n",
       "    <tr style=\"text-align: right;\">\n",
       "      <th>DOZone</th>\n",
       "      <th>JFK Airport</th>\n",
       "      <th>LaGuardia Airport</th>\n",
       "      <th>Newark Airport</th>\n",
       "      <th>Other</th>\n",
       "    </tr>\n",
       "    <tr>\n",
       "      <th>PUZone</th>\n",
       "      <th></th>\n",
       "      <th></th>\n",
       "      <th></th>\n",
       "      <th></th>\n",
       "    </tr>\n",
       "  </thead>\n",
       "  <tbody>\n",
       "    <tr>\n",
       "      <th>JFK Airport</th>\n",
       "      <td>4.0</td>\n",
       "      <td>0.0</td>\n",
       "      <td>0.0</td>\n",
       "      <td>1.0</td>\n",
       "    </tr>\n",
       "    <tr>\n",
       "      <th>LaGuardia Airport</th>\n",
       "      <td>0.0</td>\n",
       "      <td>6.0</td>\n",
       "      <td>0.0</td>\n",
       "      <td>5.0</td>\n",
       "    </tr>\n",
       "    <tr>\n",
       "      <th>Newark Airport</th>\n",
       "      <td>0.0</td>\n",
       "      <td>0.0</td>\n",
       "      <td>1.0</td>\n",
       "      <td>1.0</td>\n",
       "    </tr>\n",
       "    <tr>\n",
       "      <th>Other</th>\n",
       "      <td>232.0</td>\n",
       "      <td>291.0</td>\n",
       "      <td>11.0</td>\n",
       "      <td>155521.0</td>\n",
       "    </tr>\n",
       "  </tbody>\n",
       "</table>\n",
       "</div>"
      ],
      "text/plain": [
       "DOZone             JFK Airport  LaGuardia Airport  Newark Airport     Other\n",
       "PUZone                                                                     \n",
       "JFK Airport                4.0                0.0             0.0       1.0\n",
       "LaGuardia Airport          0.0                6.0             0.0       5.0\n",
       "Newark Airport             0.0                0.0             1.0       1.0\n",
       "Other                    232.0              291.0            11.0  155521.0"
      ]
     },
     "execution_count": 52,
     "metadata": {},
     "output_type": "execute_result"
    }
   ],
   "source": [
    "df1 = pd.crosstab(df[\"PUZone\"], df[\"DOZone\"])\n",
    "test_19 = df1.astype(float)\n",
    "test_19"
   ]
  },
  {
   "cell_type": "code",
   "execution_count": 53,
   "metadata": {},
   "outputs": [
    {
     "data": {
      "text/plain": [
       "11"
      ]
     },
     "execution_count": 53,
     "metadata": {},
     "output_type": "execute_result"
    }
   ],
   "source": [
    "#20\n",
    "\n",
    "test_20 = data[data[\"PUZone\"].isin([\"JFK Airport\", \"LaGuardia Airport\", \"Newark Airport\"]) & data[\"DOZone\"].isin([\"JFK Airport\", \"LaGuardia Airport\", \"Newark Airport\"])].shape[0]\n",
    "test_20"
   ]
  },
  {
   "cell_type": "markdown",
   "metadata": {},
   "source": [
    "# TESTS"
   ]
  },
  {
   "cell_type": "code",
   "execution_count": 55,
   "metadata": {},
   "outputs": [
    {
     "data": {
      "text/plain": [
       "156081"
      ]
     },
     "execution_count": 55,
     "metadata": {},
     "output_type": "execute_result"
    }
   ],
   "source": [
    "### TEST 1\n",
    "test_1"
   ]
  },
  {
   "cell_type": "code",
   "execution_count": 56,
   "metadata": {},
   "outputs": [
    {
     "data": {
      "text/plain": [
       "20"
      ]
     },
     "execution_count": 56,
     "metadata": {},
     "output_type": "execute_result"
    }
   ],
   "source": [
    "## TEST 2\n",
    "test_2"
   ]
  },
  {
   "cell_type": "code",
   "execution_count": 57,
   "metadata": {},
   "outputs": [
    {
     "data": {
      "text/plain": [
       "VendorID                 float64\n",
       "lpep_pickup_datetime      object\n",
       "lpep_dropoff_datetime     object\n",
       "store_and_fwd_flag        object\n",
       "RatecodeID               float64\n",
       "PULocationID               int64\n",
       "DOLocationID               int64\n",
       "passenger_count          float64\n",
       "trip_distance            float64\n",
       "fare_amount              float64\n",
       "extra                    float64\n",
       "mta_tax                  float64\n",
       "tip_amount               float64\n",
       "tolls_amount             float64\n",
       "ehail_fee                float64\n",
       "improvement_surcharge    float64\n",
       "total_amount             float64\n",
       "payment_type             float64\n",
       "trip_type                float64\n",
       "congestion_surcharge     float64\n",
       "dtype: object"
      ]
     },
     "execution_count": 57,
     "metadata": {},
     "output_type": "execute_result"
    }
   ],
   "source": [
    "## TEST 3\n",
    "test_3"
   ]
  },
  {
   "cell_type": "code",
   "execution_count": 58,
   "metadata": {},
   "outputs": [
    {
     "data": {
      "text/html": [
       "<div>\n",
       "<style scoped>\n",
       "    .dataframe tbody tr th:only-of-type {\n",
       "        vertical-align: middle;\n",
       "    }\n",
       "\n",
       "    .dataframe tbody tr th {\n",
       "        vertical-align: top;\n",
       "    }\n",
       "\n",
       "    .dataframe thead th {\n",
       "        text-align: right;\n",
       "    }\n",
       "</style>\n",
       "<table border=\"1\" class=\"dataframe\">\n",
       "  <thead>\n",
       "    <tr style=\"text-align: right;\">\n",
       "      <th></th>\n",
       "      <th>lpep_pickup_datetime</th>\n",
       "      <th>lpep_dropoff_datetime</th>\n",
       "    </tr>\n",
       "  </thead>\n",
       "  <tbody>\n",
       "    <tr>\n",
       "      <th>0</th>\n",
       "      <td>2008-12-31 22:06:48</td>\n",
       "      <td>2009-01-01 09:44:26</td>\n",
       "    </tr>\n",
       "    <tr>\n",
       "      <th>1</th>\n",
       "      <td>2009-01-01 00:03:41</td>\n",
       "      <td>2009-01-01 12:58:31</td>\n",
       "    </tr>\n",
       "    <tr>\n",
       "      <th>2</th>\n",
       "      <td>2009-01-01 12:04:14</td>\n",
       "      <td>2009-01-01 12:19:08</td>\n",
       "    </tr>\n",
       "    <tr>\n",
       "      <th>3</th>\n",
       "      <td>2020-02-16 11:30:25</td>\n",
       "      <td>2020-02-16 11:45:35</td>\n",
       "    </tr>\n",
       "    <tr>\n",
       "      <th>4</th>\n",
       "      <td>2020-02-16 11:58:59</td>\n",
       "      <td>2020-02-16 12:05:40</td>\n",
       "    </tr>\n",
       "  </tbody>\n",
       "</table>\n",
       "</div>"
      ],
      "text/plain": [
       "  lpep_pickup_datetime lpep_dropoff_datetime\n",
       "0  2008-12-31 22:06:48   2009-01-01 09:44:26\n",
       "1  2009-01-01 00:03:41   2009-01-01 12:58:31\n",
       "2  2009-01-01 12:04:14   2009-01-01 12:19:08\n",
       "3  2020-02-16 11:30:25   2020-02-16 11:45:35\n",
       "4  2020-02-16 11:58:59   2020-02-16 12:05:40"
      ]
     },
     "execution_count": 58,
     "metadata": {},
     "output_type": "execute_result"
    }
   ],
   "source": [
    "## TEST 4\n",
    "test_4"
   ]
  },
  {
   "cell_type": "code",
   "execution_count": 59,
   "metadata": {},
   "outputs": [
    {
     "data": {
      "text/plain": [
       "156073"
      ]
     },
     "execution_count": 59,
     "metadata": {},
     "output_type": "execute_result"
    }
   ],
   "source": [
    "## TEST 5\n",
    "test_5"
   ]
  },
  {
   "cell_type": "code",
   "execution_count": 60,
   "metadata": {},
   "outputs": [
    {
     "data": {
      "text/plain": [
       "[950, 537, 1149, 360, 407]"
      ]
     },
     "execution_count": 60,
     "metadata": {},
     "output_type": "execute_result"
    }
   ],
   "source": [
    "## TEST 6\n",
    "test_6"
   ]
  },
  {
   "cell_type": "code",
   "execution_count": 61,
   "metadata": {},
   "outputs": [
    {
     "data": {
      "text/plain": [
       "['VeriFone Inc.',\n",
       " 'VeriFone Inc.',\n",
       " 'VeriFone Inc.',\n",
       " nan,\n",
       " 'VeriFone Inc.',\n",
       " 'VeriFone Inc.',\n",
       " 'Creative Mobile Technologies, LLC',\n",
       " 'VeriFone Inc.',\n",
       " 'VeriFone Inc.',\n",
       " 'Creative Mobile Technologies, LLC']"
      ]
     },
     "execution_count": 61,
     "metadata": {},
     "output_type": "execute_result"
    }
   ],
   "source": [
    "## TEST 7\n",
    "test_7"
   ]
  },
  {
   "cell_type": "code",
   "execution_count": 62,
   "metadata": {},
   "outputs": [
    {
     "data": {
      "text/html": [
       "<div>\n",
       "<style scoped>\n",
       "    .dataframe tbody tr th:only-of-type {\n",
       "        vertical-align: middle;\n",
       "    }\n",
       "\n",
       "    .dataframe tbody tr th {\n",
       "        vertical-align: top;\n",
       "    }\n",
       "\n",
       "    .dataframe thead th {\n",
       "        text-align: right;\n",
       "    }\n",
       "</style>\n",
       "<table border=\"1\" class=\"dataframe\">\n",
       "  <thead>\n",
       "    <tr style=\"text-align: right;\">\n",
       "      <th></th>\n",
       "      <th>PULocationID</th>\n",
       "      <th>DOLocationID</th>\n",
       "      <th>PUZone</th>\n",
       "      <th>DOZone</th>\n",
       "    </tr>\n",
       "  </thead>\n",
       "  <tbody>\n",
       "    <tr>\n",
       "      <th>0</th>\n",
       "      <td>75</td>\n",
       "      <td>169</td>\n",
       "      <td>East Harlem South</td>\n",
       "      <td>Mount Hope</td>\n",
       "    </tr>\n",
       "    <tr>\n",
       "      <th>88331</th>\n",
       "      <td>244</td>\n",
       "      <td>127</td>\n",
       "      <td>Washington Heights South</td>\n",
       "      <td>Inwood</td>\n",
       "    </tr>\n",
       "    <tr>\n",
       "      <th>81213</th>\n",
       "      <td>82</td>\n",
       "      <td>264</td>\n",
       "      <td>Elmhurst</td>\n",
       "      <td>NV</td>\n",
       "    </tr>\n",
       "    <tr>\n",
       "      <th>11830</th>\n",
       "      <td>42</td>\n",
       "      <td>41</td>\n",
       "      <td>Central Harlem North</td>\n",
       "      <td>Central Harlem</td>\n",
       "    </tr>\n",
       "    <tr>\n",
       "      <th>59711</th>\n",
       "      <td>41</td>\n",
       "      <td>152</td>\n",
       "      <td>Central Harlem</td>\n",
       "      <td>Manhattanville</td>\n",
       "    </tr>\n",
       "  </tbody>\n",
       "</table>\n",
       "</div>"
      ],
      "text/plain": [
       "       PULocationID  DOLocationID                    PUZone          DOZone\n",
       "0                75           169         East Harlem South      Mount Hope\n",
       "88331           244           127  Washington Heights South          Inwood\n",
       "81213            82           264                  Elmhurst              NV\n",
       "11830            42            41      Central Harlem North  Central Harlem\n",
       "59711            41           152            Central Harlem  Manhattanville"
      ]
     },
     "execution_count": 62,
     "metadata": {},
     "output_type": "execute_result"
    }
   ],
   "source": [
    "## TEST 8\n",
    "test_8"
   ]
  },
  {
   "cell_type": "code",
   "execution_count": 63,
   "metadata": {},
   "outputs": [
    {
     "data": {
      "text/plain": [
       "True"
      ]
     },
     "execution_count": 63,
     "metadata": {},
     "output_type": "execute_result"
    }
   ],
   "source": [
    "## TEST 9\n",
    "test_9"
   ]
  },
  {
   "cell_type": "code",
   "execution_count": 64,
   "metadata": {},
   "outputs": [
    {
     "data": {
      "text/plain": [
       "{('East Harlem North', 'East Harlem South'): 2535,\n",
       " ('East Harlem South', 'East Harlem North'): 2423,\n",
       " ('Central Harlem North', 'Central Harlem North'): 1882,\n",
       " ('East Harlem North', 'East Harlem North'): 1819,\n",
       " ('Central Harlem', 'Central Harlem North'): 1732}"
      ]
     },
     "execution_count": 64,
     "metadata": {},
     "output_type": "execute_result"
    }
   ],
   "source": [
    "## TEST 10\n",
    "test_10"
   ]
  },
  {
   "cell_type": "code",
   "execution_count": 65,
   "metadata": {},
   "outputs": [
    {
     "data": {
      "text/plain": [
       "0.07"
      ]
     },
     "execution_count": 65,
     "metadata": {},
     "output_type": "execute_result"
    }
   ],
   "source": [
    "## TEST 11\n",
    "test_11"
   ]
  },
  {
   "cell_type": "code",
   "execution_count": 66,
   "metadata": {},
   "outputs": [
    {
     "data": {
      "text/plain": [
       "{'Creative Mobile Technologies, LLC': 0.05, 'VeriFone Inc.': 0.06}"
      ]
     },
     "execution_count": 66,
     "metadata": {},
     "output_type": "execute_result"
    }
   ],
   "source": [
    "## TEST 12\n",
    "test_12"
   ]
  },
  {
   "cell_type": "code",
   "execution_count": 67,
   "metadata": {},
   "outputs": [
    {
     "data": {
      "text/plain": [
       "{'total_amount': 498.8,\n",
       " 'tip_amount': 480.0,\n",
       " 'PUZone': 'Richmond Hill',\n",
       " 'DOZone': 'Middle Village'}"
      ]
     },
     "execution_count": 67,
     "metadata": {},
     "output_type": "execute_result"
    }
   ],
   "source": [
    "## TEST 13\n",
    "test_13"
   ]
  },
  {
   "cell_type": "code",
   "execution_count": 68,
   "metadata": {},
   "outputs": [
    {
     "data": {
      "text/plain": [
       "[('Jackson Heights', 'Boerum Hill'),\n",
       " ('Forest Hills', 'Marine Park/Floyd Bennett Field'),\n",
       " ('Bensonhurst West', 'Flatlands'),\n",
       " ('Bushwick North', 'NV'),\n",
       " ('Sunnyside', 'NV')]"
      ]
     },
     "execution_count": 68,
     "metadata": {},
     "output_type": "execute_result"
    }
   ],
   "source": [
    "## TEST 14\n",
    "test_14"
   ]
  },
  {
   "cell_type": "code",
   "execution_count": 69,
   "metadata": {},
   "outputs": [
    {
     "data": {
      "text/plain": [
       "{'JFK Airport': 5, 'LaGuardia Airport': 11, 'Newark Airport': 2}"
      ]
     },
     "execution_count": 69,
     "metadata": {},
     "output_type": "execute_result"
    }
   ],
   "source": [
    "## TEST 15\n",
    "test_15"
   ]
  },
  {
   "cell_type": "code",
   "execution_count": 70,
   "metadata": {},
   "outputs": [
    {
     "data": {
      "text/plain": [
       "{'JFK Airport': 236, 'LaGuardia Airport': 297, 'Newark Airport': 12}"
      ]
     },
     "execution_count": 70,
     "metadata": {},
     "output_type": "execute_result"
    }
   ],
   "source": [
    "## TEST 16\n",
    "test_16"
   ]
  },
  {
   "cell_type": "code",
   "execution_count": 71,
   "metadata": {},
   "outputs": [
    {
     "data": {
      "text/plain": [
       "True"
      ]
     },
     "execution_count": 71,
     "metadata": {},
     "output_type": "execute_result"
    }
   ],
   "source": [
    "## TEST 17\n",
    "test_17"
   ]
  },
  {
   "cell_type": "code",
   "execution_count": 72,
   "metadata": {},
   "outputs": [
    {
     "data": {
      "text/plain": [
       "('LaGuardia Airport', 'LaGuardia Airport')"
      ]
     },
     "execution_count": 72,
     "metadata": {},
     "output_type": "execute_result"
    }
   ],
   "source": [
    "## TEST 18\n",
    "test_18"
   ]
  },
  {
   "cell_type": "code",
   "execution_count": 73,
   "metadata": {},
   "outputs": [
    {
     "data": {
      "text/html": [
       "<div>\n",
       "<style scoped>\n",
       "    .dataframe tbody tr th:only-of-type {\n",
       "        vertical-align: middle;\n",
       "    }\n",
       "\n",
       "    .dataframe tbody tr th {\n",
       "        vertical-align: top;\n",
       "    }\n",
       "\n",
       "    .dataframe thead th {\n",
       "        text-align: right;\n",
       "    }\n",
       "</style>\n",
       "<table border=\"1\" class=\"dataframe\">\n",
       "  <thead>\n",
       "    <tr style=\"text-align: right;\">\n",
       "      <th>DOZone</th>\n",
       "      <th>JFK Airport</th>\n",
       "      <th>LaGuardia Airport</th>\n",
       "      <th>Newark Airport</th>\n",
       "      <th>Other</th>\n",
       "    </tr>\n",
       "    <tr>\n",
       "      <th>PUZone</th>\n",
       "      <th></th>\n",
       "      <th></th>\n",
       "      <th></th>\n",
       "      <th></th>\n",
       "    </tr>\n",
       "  </thead>\n",
       "  <tbody>\n",
       "    <tr>\n",
       "      <th>JFK Airport</th>\n",
       "      <td>4.0</td>\n",
       "      <td>0.0</td>\n",
       "      <td>0.0</td>\n",
       "      <td>1.0</td>\n",
       "    </tr>\n",
       "    <tr>\n",
       "      <th>LaGuardia Airport</th>\n",
       "      <td>0.0</td>\n",
       "      <td>6.0</td>\n",
       "      <td>0.0</td>\n",
       "      <td>5.0</td>\n",
       "    </tr>\n",
       "    <tr>\n",
       "      <th>Newark Airport</th>\n",
       "      <td>0.0</td>\n",
       "      <td>0.0</td>\n",
       "      <td>1.0</td>\n",
       "      <td>1.0</td>\n",
       "    </tr>\n",
       "    <tr>\n",
       "      <th>Other</th>\n",
       "      <td>232.0</td>\n",
       "      <td>291.0</td>\n",
       "      <td>11.0</td>\n",
       "      <td>155521.0</td>\n",
       "    </tr>\n",
       "  </tbody>\n",
       "</table>\n",
       "</div>"
      ],
      "text/plain": [
       "DOZone             JFK Airport  LaGuardia Airport  Newark Airport     Other\n",
       "PUZone                                                                     \n",
       "JFK Airport                4.0                0.0             0.0       1.0\n",
       "LaGuardia Airport          0.0                6.0             0.0       5.0\n",
       "Newark Airport             0.0                0.0             1.0       1.0\n",
       "Other                    232.0              291.0            11.0  155521.0"
      ]
     },
     "execution_count": 73,
     "metadata": {},
     "output_type": "execute_result"
    }
   ],
   "source": [
    "## TEST 19\n",
    "test_19"
   ]
  },
  {
   "cell_type": "code",
   "execution_count": 74,
   "metadata": {},
   "outputs": [
    {
     "data": {
      "text/plain": [
       "11"
      ]
     },
     "execution_count": 74,
     "metadata": {},
     "output_type": "execute_result"
    }
   ],
   "source": [
    "## TEST 20\n",
    "test_20"
   ]
  }
 ],
 "metadata": {
  "kernelspec": {
   "display_name": "Python 3 (ipykernel)",
   "language": "python",
   "name": "python3"
  },
  "language_info": {
   "codemirror_mode": {
    "name": "ipython",
    "version": 3
   },
   "file_extension": ".py",
   "mimetype": "text/x-python",
   "name": "python",
   "nbconvert_exporter": "python",
   "pygments_lexer": "ipython3",
   "version": "3.11.7"
  }
 },
 "nbformat": 4,
 "nbformat_minor": 4
}
