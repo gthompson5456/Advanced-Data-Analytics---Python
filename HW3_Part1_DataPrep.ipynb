{
 "cells": [
  {
   "cell_type": "code",
   "execution_count": null,
   "id": "474ee1d8-16ac-4ec8-a010-8bfd44bd91e4",
   "metadata": {},
   "outputs": [],
   "source": [
    "import pandas as pd\n",
    "import numpy as np\n",
    "import altair as alt"
   ]
  },
  {
   "cell_type": "markdown",
   "id": "9ba426c2-331d-4233-b4a1-a7aaf9b07db5",
   "metadata": {},
   "source": [
    "Part 1: data preparation\n",
    "\n",
    "1. how many columns are there in data?\n",
    "\n",
    "2. how many rows are there in the data dictionary table? (Hint, it should be equal to the number of columns in data)\n",
    "\n",
    "3. set the columns names in data according to their Field Name in the data dictionary table. Show the first five rows and first five columns from data. You will need to parse the data dictionary table HTML file. Please do not set the column names manually!\n",
    "\n",
    "4. Show the last five rows and last five columns from data.\n",
    "\n",
    "5. What are the columns containing credit score in any casing? Return a list with the same order of columns in data\n",
    " \n",
    "6. Calculate the average of these columns, round with hround return the results in a series\n",
    "\n",
    "7. As you see, only Borrower Credit Score at Origination and Co-Borrower Credit Score at Origination contain data. We want to create a new column Combined Credit Score with the average of these two columns. The average should be a value even when one of the columns is null. If one of the columns is null, the average should simply be the other non-null column. If both of them are not null the average is the matehmatical average (i.e., (first + second) / 2). Show the first five and last five rows and the columns Borrower Credit Score at Origination, Co-Borrower Credit Score at Origination, and Combined Credit Score\n",
    "\n",
    "8. Calculate the average Combined Credit Score per Property State, round the results with hround. Return the results in a series, sort by index.\n",
    "\n",
    "9. We want to calculate the min and max of Combined Credit Score per Property State. Then calculate the range (max - min) in each state. Return the results in a data frame where the state is the index.\n",
    "\n",
    "10. What is the state with highest range.\n",
    "\n",
    "11. We want to calculate the frist quartile (q1) and the third quartile (q3) of Combined Credit Score per Property State. Then calculate the interquartile range (q3 - q1) in each state. Return the results in a data frame where the state is the index.\n",
    "\n",
    "12. What is the state with highest iqr?"
   ]
  },
  {
   "cell_type": "markdown",
   "id": "d0939265-f7fe-49ae-92cc-8d60f59812db",
   "metadata": {},
   "source": [
    "In this homework, we have data from Fannie Mae Single-Family Loan Performance Data\n",
    "\n",
    "The data file south_east_092012.csv is given to you. This file contain records from the Fannie Mae Single-Family Loan Performance Data for the South Eastern states of AL, GA, FL, MS, NC, SC, TN for loans originating on 09/2012.\n",
    "\n",
    "The data file does not have a header. The header is provided in the HTML page data dictionary"
   ]
  },
  {
   "cell_type": "code",
   "execution_count": null,
   "id": "d5a49d93-43a6-4c67-8c09-81216cf38449",
   "metadata": {},
   "outputs": [],
   "source": [
    "data = pd.read_csv('south_east_092012.csv', header=None, delimiter='|')\n",
    "url = 'https://www.cs.mcgill.ca/~hsafad/files/crt-file-layout-and-glossary.html'\n",
    "data.head()"
   ]
  },
  {
   "cell_type": "code",
   "execution_count": null,
   "id": "c74b26a1-70ab-43ec-b145-27b6fb6eb2f7",
   "metadata": {},
   "outputs": [],
   "source": [
    "test_1 = len(data.columns)"
   ]
  },
  {
   "cell_type": "code",
   "execution_count": null,
   "id": "d3cd07bb-6341-48d8-8f73-f8232f6e3d2e",
   "metadata": {},
   "outputs": [],
   "source": [
    "tables = pd.read_html(url,encoding='windows-1252',header=0)\n",
    "data_dictionary = tables[0]\n",
    "test_2 = len(data_dictionary['Field Position'])"
   ]
  },
  {
   "cell_type": "code",
   "execution_count": null,
   "id": "69f65dae-2cda-4f70-9889-318e479f0956",
   "metadata": {},
   "outputs": [],
   "source": [
    "data.columns = data_dictionary['Field Name'].values\n",
    "test_3 = data.iloc[:5,:5]"
   ]
  },
  {
   "cell_type": "code",
   "execution_count": null,
   "id": "b2d95c2f-a903-4cf4-9d2f-25c3f971cc66",
   "metadata": {},
   "outputs": [],
   "source": [
    "test_4 = data.iloc[-5:,-5:]"
   ]
  },
  {
   "cell_type": "code",
   "execution_count": null,
   "id": "d20456b8-76ff-4f20-8008-ebdaa917b0f0",
   "metadata": {},
   "outputs": [],
   "source": [
    "test_5 = data.columns[data.columns.str.lower().str.contains('credit score')].to_list()"
   ]
  },
  {
   "cell_type": "code",
   "execution_count": null,
   "id": "1aa0d9e5-0350-4ad1-b1c2-3b9e644ee00e",
   "metadata": {},
   "outputs": [],
   "source": [
    "test_6 = hround(data[['Borrower Credit Score at Origination',\n",
    " 'Co-Borrower Credit Score at Origination',\n",
    " 'Borrower Credit Score At Issuance',\n",
    " 'Co-Borrower Credit Score At Issuance',\n",
    " 'Borrower Credit Score Current',\n",
    " 'Co-Borrower Credit Score Current']].mean())"
   ]
  },
  {
   "cell_type": "code",
   "execution_count": null,
   "id": "fad10b9e-e59e-4090-b04f-e54ac772f958",
   "metadata": {},
   "outputs": [],
   "source": [
    "data['Combined Credit Score'] = hround((data['Borrower Credit Score at Origination'].fillna(data['Co-Borrower Credit Score at Origination'])  + \n",
    "                           data['Co-Borrower Credit Score at Origination'].fillna(data['Borrower Credit Score at Origination']))/2)\n",
    "first_five = data[['Borrower Credit Score at Origination','Co-Borrower Credit Score at Origination','Combined Credit Score']].iloc[:5]\n",
    "last_five =  data[['Borrower Credit Score at Origination','Co-Borrower Credit Score at Origination','Combined Credit Score']].iloc[-5:]\n",
    "test_7 = pd.concat([first_five,last_five])"
   ]
  },
  {
   "cell_type": "code",
   "execution_count": null,
   "id": "1e464248-9546-4fb0-9ea6-216529833466",
   "metadata": {},
   "outputs": [],
   "source": [
    "test_8 = hround(data[['Property State','Combined Credit Score']].groupby('Property State').mean().iloc[:,0])"
   ]
  },
  {
   "cell_type": "code",
   "execution_count": null,
   "id": "4ed06c8e-15f2-4259-9e03-6a3cd9bfaf26",
   "metadata": {},
   "outputs": [],
   "source": [
    "def abs_difference(x,y):\n",
    "    return(abs(x-y))"
   ]
  },
  {
   "cell_type": "code",
   "execution_count": null,
   "id": "cf952a0e-6bfe-4b32-8ede-c66457c1c70a",
   "metadata": {},
   "outputs": [],
   "source": [
    "credit_aggs = data[['Property State', 'Combined Credit Score']].groupby('Property State').aggregate(\n",
    "    min=('Combined Credit Score', 'min'),\n",
    "    max=('Combined Credit Score', 'max')\n",
    ")\n",
    "credit_aggs['range'] = abs_difference(credit_aggs['min'],credit_aggs['max'])\n",
    "test_9 = credit_aggs"
   ]
  },
  {
   "cell_type": "code",
   "execution_count": null,
   "id": "5b520ea3-abed-4d2b-b700-75a56555d00a",
   "metadata": {},
   "outputs": [],
   "source": [
    "test_10 = test_9['range'].idxmax()"
   ]
  },
  {
   "cell_type": "code",
   "execution_count": null,
   "id": "304f6721-17f6-4d5f-85f4-8a4ac86ab692",
   "metadata": {},
   "outputs": [],
   "source": [
    "def q1(x):\n",
    "    return(x.quantile(0.25))\n",
    "\n",
    "def q3(x):\n",
    "    return(x.quantile(0.75))\n",
    "\n",
    "def iqr(q3,q1):\n",
    "    return(q3-q1)"
   ]
  },
  {
   "cell_type": "code",
   "execution_count": null,
   "id": "9845e127-0254-479c-a928-43472acc9d3c",
   "metadata": {},
   "outputs": [],
   "source": [
    "credit_quantiles = data[['Combined Credit Score','Property State']].groupby('Property State').aggregate(\n",
    "    q1 = ('Combined Credit Score',q1),\n",
    "    q3 = ('Combined Credit Score',q3)\n",
    ")\n",
    "credit_quantiles['iqr'] = iqr(credit_quantiles['q3'],credit_quantiles['q1'])\n",
    "test_11 = credit_quantiles"
   ]
  },
  {
   "cell_type": "code",
   "execution_count": null,
   "id": "58fcf5ef-f2cf-4dd9-a120-edd420bb1b65",
   "metadata": {},
   "outputs": [],
   "source": [
    "test_12 = credit_quantiles['iqr'].idxmax()"
   ]
  }
 ],
 "metadata": {
  "kernelspec": {
   "display_name": "Python (anaconda3)",
   "language": "python",
   "name": "anaconda3"
  },
  "language_info": {
   "codemirror_mode": {
    "name": "ipython",
    "version": 3
   },
   "file_extension": ".py",
   "mimetype": "text/x-python",
   "name": "python",
   "nbconvert_exporter": "python",
   "pygments_lexer": "ipython3",
   "version": "3.12.7"
  }
 },
 "nbformat": 4,
 "nbformat_minor": 5
}
