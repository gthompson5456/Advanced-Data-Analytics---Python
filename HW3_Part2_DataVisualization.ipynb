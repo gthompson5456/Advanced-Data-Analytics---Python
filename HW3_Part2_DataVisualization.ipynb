{
 "cells": [
  {
   "cell_type": "code",
   "execution_count": null,
   "id": "052526f6-4135-4eb5-bc08-7ac6d9a1b2a2",
   "metadata": {},
   "outputs": [],
   "source": [
    "import pandas as pd\n",
    "import numpy as np\n",
    "import altair as alt"
   ]
  },
  {
   "cell_type": "markdown",
   "id": "c9bf4b7e-a710-4d9c-b76b-3a49e0ababbf",
   "metadata": {},
   "source": [
    "Part 2: data visualization\n",
    "Using Altair:\n",
    "\n",
    "13. We want to create a scatter plot of borrower credit score and interest rate. Create a chart with mark point, encode Borrower Credit Score at Origination on the x axis and Interest Rate on the y axis.\n",
    "14. We want to create a bar chart with the number of records per state. Using bar marks, encode Property State on the y axis and the count of records on the x axis.\n",
    "15. We want to visually show the iqr per state. Using bar marks, map Property State to the y axis, q1 of q1(Borrower Credit Score at Origination) to x and q3(Borrower Credit Score at Origination) to x2. Set zero to False of the scale of x axis. \n",
    "16. We want to show the media on top of the iqr bar chart. Using tick marks, encode Property State on the y axis and the median of Borrower Credit Score at Origination on the x axis setting zero to Flase on its scale. Show this new chart on top of the previous chart.\n",
    "17. Create a histogram of Borrower Credit Score at Origination\n",
    "18. Add a column facet for each state to the previous histogram (i.e., repeating the histogram per state)\n",
    "19. We want to show the number of loans per state and number of borrowers. using bar mark, encode Number of Borrowers to the x channel, use nominal data type. Encode Property State to the y channel, use ordinal data type. Encode the number of records to color.\n",
    "20. As a variation to the above chart, we want to use circles of varying sizes. Use circle marks and map size to the number of records. Encode x and y as in the above chart."
   ]
  },
  {
   "cell_type": "markdown",
   "id": "0be12d07-740f-4eb4-b5b8-1f96b4c30724",
   "metadata": {},
   "source": [
    "In this homework, we have data from Fannie Mae Single-Family Loan Performance Data\n",
    "\n",
    "The data file south_east_092012.csv is given to you. This file contain records from the Fannie Mae Single-Family Loan Performance Data for the South Eastern states of AL, GA, FL, MS, NC, SC, TN for loans originating on 09/2012.\n",
    "\n",
    "The data file does not have a header. The header is provided in the HTML page data dictionary"
   ]
  },
  {
   "cell_type": "code",
   "execution_count": null,
   "id": "73d95f17-9430-4346-8792-c4b57471dba5",
   "metadata": {},
   "outputs": [],
   "source": [
    "alt.renderers.enable(renderer)"
   ]
  },
  {
   "cell_type": "code",
   "execution_count": null,
   "id": "1364a861-8b77-4081-b20c-a22f96509877",
   "metadata": {},
   "outputs": [],
   "source": [
    "data = pd.read_csv('south_east_092012.csv', header=None, delimiter='|')\n",
    "url = 'https://www.cs.mcgill.ca/~hsafad/files/crt-file-layout-and-glossary.html'\n",
    "data.head()"
   ]
  },
  {
   "cell_type": "code",
   "execution_count": null,
   "id": "d14ab44a-0e67-4b9a-a64e-86c2920c623b",
   "metadata": {},
   "outputs": [],
   "source": [
    "data.columns[data.columns == 'Interest Rate']"
   ]
  },
  {
   "cell_type": "code",
   "execution_count": null,
   "id": "da2ccb5a-122b-4459-9a03-2fe5d241b101",
   "metadata": {},
   "outputs": [],
   "source": [
    "import warnings\n",
    "warnings.simplefilter(action='ignore', category=FutureWarning)\n",
    "chart = alt.Chart(data)"
   ]
  },
  {
   "cell_type": "code",
   "execution_count": null,
   "id": "dcdf6bf3-9612-438a-9da4-c9b85c777b38",
   "metadata": {},
   "outputs": [],
   "source": [
    "test_13 = chart.mark_point().encode(\n",
    "    y='Original Interest Rate',\n",
    "    x='Borrower Credit Score at Origination'\n",
    ")\n",
    "test_13"
   ]
  },
  {
   "cell_type": "code",
   "execution_count": null,
   "id": "4e9d9fe1-a3a8-4603-ad98-5c92fd1687a5",
   "metadata": {},
   "outputs": [],
   "source": [
    "test_14 = chart.mark_bar().encode(\n",
    "    x='count()',\n",
    "    y='Property State'\n",
    ")\n",
    "test_14"
   ]
  },
  {
   "cell_type": "code",
   "execution_count": null,
   "id": "75318656-f6de-46ff-af3c-8290c96251c3",
   "metadata": {},
   "outputs": [],
   "source": [
    "test_15 = chart.mark_bar().encode(\n",
    "     alt.X('q1(Borrower Credit Score at Origination):Q',scale=alt.Scale(zero=False)),\n",
    "    alt.X2('q3(Borrower Credit Score at Origination):Q'),\n",
    "    alt.Y('Property State')\n",
    ")\n",
    "test_15"
   ]
  },
  {
   "cell_type": "code",
   "execution_count": null,
   "id": "224949ea-5611-48ee-9197-9d9ad280a807",
   "metadata": {},
   "outputs": [],
   "source": [
    "medians = chart.mark_tick(color='red').encode(\n",
    "    alt.X('median(Borrower Credit Score at Origination)',scale=alt.Scale(zero=False)),\n",
    "    alt.Y('Property State')\n",
    ")\n",
    "test_16 = test_15+medians\n",
    "test_16"
   ]
  },
  {
   "cell_type": "code",
   "execution_count": null,
   "id": "f43513be-74d1-485d-8362-3588b0df0c68",
   "metadata": {},
   "outputs": [],
   "source": [
    "test_17 = chart.mark_bar().encode(\n",
    "    alt.X('Borrower Credit Score at Origination:Q', bin=True),\n",
    "    alt.Y('count()')\n",
    ")\n",
    "test_17"
   ]
  },
  {
   "cell_type": "code",
   "execution_count": null,
   "id": "38db100d-788d-48f7-8357-a92c46ffcb50",
   "metadata": {},
   "outputs": [],
   "source": [
    "test_18 = chart.mark_bar().encode(\n",
    "    alt.X('Borrower Credit Score at Origination:Q', bin=True),\n",
    "    alt.Y('count()'),\n",
    "    column='Property State'\n",
    ")\n",
    "test_18"
   ]
  },
  {
   "cell_type": "code",
   "execution_count": null,
   "id": "840f4f11-c39c-4f31-8f16-17c1a45a3476",
   "metadata": {},
   "outputs": [],
   "source": [
    "test_19 = chart.mark_bar().encode(\n",
    "    alt.X('Number of Borrowers:N'),\n",
    "    alt.Y('Property State:O'),\n",
    "    alt.Color('count()')\n",
    ")\n",
    "test_19"
   ]
  },
  {
   "cell_type": "code",
   "execution_count": null,
   "id": "03c27c6b-d475-40b1-8753-d2899a8a3304",
   "metadata": {},
   "outputs": [],
   "source": [
    "test_20 = chart.mark_circle().encode(\n",
    "    alt.X('Number of Borrowers:N'),\n",
    "    alt.Y('Property State:O'),\n",
    "    alt.Size('count()')\n",
    ")\n",
    "test_20"
   ]
  }
 ],
 "metadata": {
  "kernelspec": {
   "display_name": "Python (anaconda3)",
   "language": "python",
   "name": "anaconda3"
  },
  "language_info": {
   "codemirror_mode": {
    "name": "ipython",
    "version": 3
   },
   "file_extension": ".py",
   "mimetype": "text/x-python",
   "name": "python",
   "nbconvert_exporter": "python",
   "pygments_lexer": "ipython3",
   "version": "3.12.7"
  }
 },
 "nbformat": 4,
 "nbformat_minor": 5
}
